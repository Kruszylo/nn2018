{
 "cells": [
  {
   "cell_type": "markdown",
   "metadata": {},
   "source": [
    "# Mulitnomial Logistic Regression in PyTorch\n",
    "\n",
    "Your task will be to:\n",
    "\n",
    "* Implement and optimize multinomial logistic regression using Pytorch using Autograd\n",
    "\n",
    "Goal is to:\n",
    "\n",
    "* Understand and learn basics of PyTorch\n",
    "* Revise multinomial logistic regression"
   ]
  },
  {
   "cell_type": "code",
   "execution_count": 1,
   "metadata": {
    "collapsed": false
   },
   "outputs": [
    {
     "name": "stderr",
     "output_type": "stream",
     "text": [
      "Using Theano backend.\n"
     ]
    }
   ],
   "source": [
    "%load_ext autoreload\n",
    "%autoreload 2\n",
    "\n",
    "import numpy as np\n",
    "import tqdm\n",
    "import json\n",
    "\n",
    "import torch\n",
    "import torch.nn.functional as F\n",
    "from torch import nn\n",
    "from torch.autograd import Variable\n",
    "\n",
    "from keras.datasets import fashion_mnist\n",
    "from keras.utils import np_utils\n",
    "\n",
    "%matplotlib inline\n",
    "import matplotlib.pylab as plt\n",
    "\n",
    "import matplotlib as mpl\n",
    "mpl.rcParams['lines.linewidth'] = 2\n",
    "mpl.rcParams['figure.figsize'] = (7, 7)\n",
    "mpl.rcParams['axes.titlesize'] = 12\n",
    "mpl.rcParams['axes.labelsize'] = 12"
   ]
  },
  {
   "cell_type": "code",
   "execution_count": 2,
   "metadata": {
    "collapsed": false
   },
   "outputs": [],
   "source": [
    "# Get FashionMNIST (see 1b_FMNIST.ipynb for data exploration)\n",
    "(x_train, y_train), (x_test, y_test) = fashion_mnist.load_data()\n",
    "\n",
    "# Logistic regression needs 2D data\n",
    "x_train = x_train.reshape(-1, 784)\n",
    "x_test = x_test.reshape(-1, 784)\n",
    "\n",
    "# 0-1 normalization\n",
    "x_train = x_train / 255.\n",
    "x_test = x_test / 255.\n",
    "\n",
    "# For simplicity - implicit bias\n",
    "x_train = np.concatenate([np.ones_like(x_train[:, 0:1]), x_train], axis=1)\n",
    "x_test = np.concatenate([np.ones_like(x_test[:, 0:1]), x_test], axis=1)\n",
    "\n",
    "# Convert to Torch Tensor. Just to avoid boilerplate code later\n",
    "x_train = torch.from_numpy(x_train).type(torch.FloatTensor)\n",
    "x_test = torch.from_numpy(x_test).type(torch.FloatTensor)\n",
    "y_train = torch.from_numpy(y_train).type(torch.LongTensor)\n",
    "y_test = torch.from_numpy(y_test).type(torch.LongTensor)\n",
    "\n",
    "# Use only first 1k examples. Just for notebook to run faster\n",
    "x_train, y_train = x_train[0:1000], y_train[0:1000]\n",
    "x_test, y_test = x_test[0:1000], y_test[0:1000]"
   ]
  },
  {
   "cell_type": "markdown",
   "metadata": {},
   "source": [
    "# Why not Numpy\n",
    "\n",
    "Ref: http://cs231n.stanford.edu/slides/2017/cs231n_2017_lecture8.pdf\n",
    "\n",
    "<img src=\"https://github.com/gmum/nn2018/raw/master/lab/fig/2/GPUvsCPU.png\">"
   ]
  },
  {
   "cell_type": "markdown",
   "metadata": {},
   "source": [
    "# PyTorch mini tutorial\n",
    "\n",
    "Ref: http://pytorch.org/tutorials/beginner/blitz/tensor_tutorial.html#sphx-glr-beginner-blitz-tensor-tutorial-py\n",
    "\n",
    "PyTorch has 3 layers of abstraction\n",
    "\n",
    "<img width=300 src=\"https://github.com/gmum/nn2018/raw/master/lab/fig/3/cake.jpg\">"
   ]
  },
  {
   "cell_type": "markdown",
   "metadata": {
    "collapsed": false
   },
   "source": [
    "# First layer: torch Tensor\n",
    "\n",
    "First layer is basically numpy, but with ability to execute on GPU"
   ]
  },
  {
   "cell_type": "code",
   "execution_count": 3,
   "metadata": {
    "collapsed": false
   },
   "outputs": [
    {
     "name": "stdout",
     "output_type": "stream",
     "text": [
      "[ 6 12 20]\n"
     ]
    }
   ],
   "source": [
    "a = torch.IntTensor([2, 3, 4])\n",
    "b = torch.IntTensor([3, 4, 5])\n",
    "m = a * b  # element-wise product\n",
    "print(m.numpy())  # convert to the numpy array [ 6 12 20]"
   ]
  },
  {
   "cell_type": "code",
   "execution_count": 4,
   "metadata": {
    "collapsed": false
   },
   "outputs": [
    {
     "name": "stdout",
     "output_type": "stream",
     "text": [
      "\n",
      " 0.7888  0.3586  0.2728\n",
      " 0.1489  0.8233  0.3141\n",
      " 0.4863  0.1404  0.5488\n",
      " 0.0245  0.2858  0.9314\n",
      " 0.0904  0.0435  0.3800\n",
      "[torch.FloatTensor of size 5x3]\n",
      "\n"
     ]
    }
   ],
   "source": [
    "x = torch.rand(5, 3)\n",
    "print(x)"
   ]
  },
  {
   "cell_type": "code",
   "execution_count": 5,
   "metadata": {
    "collapsed": false
   },
   "outputs": [
    {
     "name": "stdout",
     "output_type": "stream",
     "text": [
      "\n",
      " 0.9269  0.4295  0.8535\n",
      " 1.0540  1.3930  0.6521\n",
      " 0.5608  0.1647  1.2740\n",
      " 0.9029  0.3775  1.8321\n",
      " 0.4154  0.2847  1.0592\n",
      "[torch.FloatTensor of size 5x3]\n",
      "\n"
     ]
    }
   ],
   "source": [
    "y = torch.rand(5, 3)\n",
    "print(x + y)"
   ]
  },
  {
   "cell_type": "code",
   "execution_count": 6,
   "metadata": {
    "collapsed": false
   },
   "outputs": [
    {
     "name": "stdout",
     "output_type": "stream",
     "text": [
      "\n",
      " 0.9269  0.4295  0.8535\n",
      " 1.0540  1.3930  0.6521\n",
      " 0.5608  0.1647  1.2740\n",
      " 0.9029  0.3775  1.8321\n",
      " 0.4154  0.2847  1.0592\n",
      "[torch.FloatTensor of size 5x3]\n",
      "\n"
     ]
    }
   ],
   "source": [
    "print(torch.add(x, y))"
   ]
  },
  {
   "cell_type": "code",
   "execution_count": 7,
   "metadata": {
    "collapsed": false
   },
   "outputs": [
    {
     "name": "stdout",
     "output_type": "stream",
     "text": [
      "\n",
      " 0.3586\n",
      " 0.8233\n",
      " 0.1404\n",
      " 0.2858\n",
      " 0.0435\n",
      "[torch.FloatTensor of size 5]\n",
      "\n"
     ]
    }
   ],
   "source": [
    "## Just like numpy! Amazing!\n",
    "print(x[:, 1])"
   ]
  },
  {
   "cell_type": "markdown",
   "metadata": {},
   "source": [
    "## GPU execution by modifying flag"
   ]
  },
  {
   "cell_type": "code",
   "execution_count": 8,
   "metadata": {
    "collapsed": false
   },
   "outputs": [
    {
     "name": "stdout",
     "output_type": "stream",
     "text": [
      "No GPU!\n"
     ]
    }
   ],
   "source": [
    "if torch.cuda.is_available():\n",
    "    x = x.cuda()\n",
    "    y = y.cuda()\n",
    "    x + y\n",
    "else:\n",
    "    print(\"No GPU!\")"
   ]
  },
  {
   "cell_type": "markdown",
   "metadata": {},
   "source": [
    "# Second layer: Variable, computation graph and autograd\n",
    "\n",
    "torch.autograd.Variable uses internally torch.Tensor as .data field.\n",
    "\n",
    "When computing using wrapped in torch.Variable tensors, PyTorch creates computational graph for us"
   ]
  },
  {
   "cell_type": "code",
   "execution_count": 9,
   "metadata": {
    "collapsed": false
   },
   "outputs": [
    {
     "name": "stdout",
     "output_type": "stream",
     "text": [
      "Requirement already satisfied: graphviz in /Users/kudkudak/anaconda/lib/python2.7/site-packages\n",
      "Collecting git+https://github.com/szagoruyko/pytorchviz\n",
      "  Cloning https://github.com/szagoruyko/pytorchviz to /private/var/folders/8p/fn8p9w8n307fzb00y_q531wc0000gn/T/pip-oF_2Qe-build\n",
      "  Requirement already satisfied (use --upgrade to upgrade): pytorchviz==0.0.1 from git+https://github.com/szagoruyko/pytorchviz in /Users/kudkudak/anaconda/lib/python2.7/site-packages\n",
      "Requirement already satisfied: torch in /Users/kudkudak/anaconda/lib/python2.7/site-packages (from pytorchviz==0.0.1)\n",
      "Requirement already satisfied: graphviz in /Users/kudkudak/anaconda/lib/python2.7/site-packages (from pytorchviz==0.0.1)\n",
      "Requirement already satisfied: pyyaml in /Users/kudkudak/anaconda/lib/python2.7/site-packages (from torch->pytorchviz==0.0.1)\n",
      "Requirement already satisfied: numpy in /Users/kudkudak/anaconda/lib/python2.7/site-packages (from torch->pytorchviz==0.0.1)\n"
     ]
    }
   ],
   "source": [
    "# Get torchviz (might not work on some systems)\n",
    "!pip install graphviz\n",
    "!pip install git+https://github.com/szagoruyko/pytorchviz\n",
    "from torchviz import make_dot, make_dot_from_trace"
   ]
  },
  {
   "cell_type": "code",
   "execution_count": 10,
   "metadata": {
    "collapsed": false
   },
   "outputs": [],
   "source": [
    "w = Variable(torch.ones(2, 2), requires_grad=True)\n",
    "x = Variable(torch.ones(2, 4), requires_grad=True)\n",
    "y = w.mm(x) + 2"
   ]
  },
  {
   "cell_type": "code",
   "execution_count": 11,
   "metadata": {
    "collapsed": false
   },
   "outputs": [
    {
     "data": {
      "image/svg+xml": [
       "<?xml version=\"1.0\" encoding=\"UTF-8\" standalone=\"no\"?>\n",
       "<!DOCTYPE svg PUBLIC \"-//W3C//DTD SVG 1.1//EN\"\n",
       " \"http://www.w3.org/Graphics/SVG/1.1/DTD/svg11.dtd\">\n",
       "<!-- Generated by graphviz version 2.38.0 (20140413.2041)\n",
       " -->\n",
       "<!-- Title: %3 Pages: 1 -->\n",
       "<svg width=\"278pt\" height=\"154pt\"\n",
       " viewBox=\"0.00 0.00 278.00 154.00\" xmlns=\"http://www.w3.org/2000/svg\" xmlns:xlink=\"http://www.w3.org/1999/xlink\">\n",
       "<g id=\"graph0\" class=\"graph\" transform=\"scale(1 1) rotate(0) translate(4 150)\">\n",
       "<title>%3</title>\n",
       "<polygon fill=\"white\" stroke=\"none\" points=\"-4,4 -4,-150 274,-150 274,4 -4,4\"/>\n",
       "<!-- 4662057224 -->\n",
       "<g id=\"node1\" class=\"node\"><title>4662057224</title>\n",
       "<polygon fill=\"lightgrey\" stroke=\"black\" points=\"198.979,-20 71.0215,-20 71.0215,-0 198.979,-0 198.979,-20\"/>\n",
       "<text text-anchor=\"middle\" x=\"135\" y=\"-6.4\" font-family=\"Times,serif\" font-size=\"12.00\">AddConstantBackward</text>\n",
       "</g>\n",
       "<!-- 4662056976 -->\n",
       "<g id=\"node2\" class=\"node\"><title>4662056976</title>\n",
       "<polygon fill=\"lightgrey\" stroke=\"black\" points=\"186.979,-76 83.0215,-76 83.0215,-56 186.979,-56 186.979,-76\"/>\n",
       "<text text-anchor=\"middle\" x=\"135\" y=\"-62.4\" font-family=\"Times,serif\" font-size=\"12.00\">AddmmBackward</text>\n",
       "</g>\n",
       "<!-- 4662056976&#45;&gt;4662057224 -->\n",
       "<g id=\"edge1\" class=\"edge\"><title>4662056976&#45;&gt;4662057224</title>\n",
       "<path fill=\"none\" stroke=\"black\" d=\"M135,-55.5939C135,-48.7024 135,-39.1024 135,-30.5741\"/>\n",
       "<polygon fill=\"black\" stroke=\"black\" points=\"138.5,-30.2983 135,-20.2983 131.5,-30.2983 138.5,-30.2983\"/>\n",
       "</g>\n",
       "<!-- 4455889296 -->\n",
       "<g id=\"node3\" class=\"node\"><title>4455889296</title>\n",
       "<polygon fill=\"lightblue\" stroke=\"black\" points=\"54,-146 0,-146 0,-112 54,-112 54,-146\"/>\n",
       "<text text-anchor=\"middle\" x=\"27\" y=\"-118.4\" font-family=\"Times,serif\" font-size=\"12.00\"> (2, 2)</text>\n",
       "</g>\n",
       "<!-- 4455889296&#45;&gt;4662056976 -->\n",
       "<g id=\"edge2\" class=\"edge\"><title>4455889296&#45;&gt;4662056976</title>\n",
       "<path fill=\"none\" stroke=\"black\" d=\"M54.253,-112.607C71.2821,-102.989 93.0589,-90.689 109.705,-81.2869\"/>\n",
       "<polygon fill=\"black\" stroke=\"black\" points=\"111.853,-84.0937 118.839,-76.1282 108.41,-77.9987 111.853,-84.0937\"/>\n",
       "</g>\n",
       "<!-- 4455889680 -->\n",
       "<g id=\"node4\" class=\"node\"><title>4455889680</title>\n",
       "<polygon fill=\"lightblue\" stroke=\"black\" points=\"126,-146 72,-146 72,-112 126,-112 126,-146\"/>\n",
       "<text text-anchor=\"middle\" x=\"99\" y=\"-118.4\" font-family=\"Times,serif\" font-size=\"12.00\"> (2, 4)</text>\n",
       "</g>\n",
       "<!-- 4455889680&#45;&gt;4662056976 -->\n",
       "<g id=\"edge3\" class=\"edge\"><title>4455889680&#45;&gt;4662056976</title>\n",
       "<path fill=\"none\" stroke=\"black\" d=\"M108.459,-111.973C113.363,-103.663 119.368,-93.4877 124.425,-84.9187\"/>\n",
       "<polygon fill=\"black\" stroke=\"black\" points=\"127.554,-86.5027 129.623,-76.1117 121.526,-82.9449 127.554,-86.5027\"/>\n",
       "</g>\n",
       "<!-- 4664084672 -->\n",
       "<g id=\"node5\" class=\"node\"><title>4664084672</title>\n",
       "<polygon fill=\"orange\" stroke=\"black\" points=\"198,-139 144,-139 144,-119 198,-119 198,-139\"/>\n",
       "<text text-anchor=\"middle\" x=\"171\" y=\"-125.4\" font-family=\"Times,serif\" font-size=\"12.00\">(2, 2)</text>\n",
       "</g>\n",
       "<!-- 4664084672&#45;&gt;4662056976 -->\n",
       "<g id=\"edge4\" class=\"edge\"><title>4664084672&#45;&gt;4662056976</title>\n",
       "<path fill=\"none\" stroke=\"black\" d=\"M165.688,-118.999C160.424,-110.079 152.213,-96.1673 145.609,-84.977\"/>\n",
       "<polygon fill=\"black\" stroke=\"black\" points=\"148.431,-82.8709 140.334,-76.0377 142.402,-86.4287 148.431,-82.8709\"/>\n",
       "</g>\n",
       "<!-- 4664084744 -->\n",
       "<g id=\"node6\" class=\"node\"><title>4664084744</title>\n",
       "<polygon fill=\"orange\" stroke=\"black\" points=\"270,-139 216,-139 216,-119 270,-119 270,-139\"/>\n",
       "<text text-anchor=\"middle\" x=\"243\" y=\"-125.4\" font-family=\"Times,serif\" font-size=\"12.00\">(2, 4)</text>\n",
       "</g>\n",
       "<!-- 4664084744&#45;&gt;4662056976 -->\n",
       "<g id=\"edge5\" class=\"edge\"><title>4664084744&#45;&gt;4662056976</title>\n",
       "<path fill=\"none\" stroke=\"black\" d=\"M227.064,-118.999C209.357,-108.998 180.539,-92.7213 159.86,-81.0416\"/>\n",
       "<polygon fill=\"black\" stroke=\"black\" points=\"161.43,-77.9082 151.001,-76.0377 157.987,-84.0032 161.43,-77.9082\"/>\n",
       "</g>\n",
       "</g>\n",
       "</svg>\n"
      ],
      "text/plain": [
       "<graphviz.dot.Digraph at 0x109977410>"
      ]
     },
     "execution_count": 11,
     "metadata": {},
     "output_type": "execute_result"
    }
   ],
   "source": [
    "make_dot(y)"
   ]
  },
  {
   "cell_type": "markdown",
   "metadata": {},
   "source": [
    "## Autograd\n",
    "\n",
    "torch.Autograd works on torch.Variable"
   ]
  },
  {
   "cell_type": "code",
   "execution_count": 12,
   "metadata": {
    "collapsed": false
   },
   "outputs": [
    {
     "name": "stdout",
     "output_type": "stream",
     "text": [
      "Variable containing:\n",
      " 1  1\n",
      " 1  1\n",
      "[torch.FloatTensor of size 2x2]\n",
      "\n",
      "Variable containing:\n",
      " 3  3\n",
      " 3  3\n",
      "[torch.FloatTensor of size 2x2]\n",
      "\n",
      "<torch.autograd.function.AddConstantBackward object at 0x115e15a00>\n",
      "(Variable containing:\n",
      " 27  27\n",
      " 27  27\n",
      "[torch.FloatTensor of size 2x2]\n",
      ", Variable containing:\n",
      " 27\n",
      "[torch.FloatTensor of size 1]\n",
      ")\n",
      "Variable containing:\n",
      " 4.5000  4.5000\n",
      " 4.5000  4.5000\n",
      "[torch.FloatTensor of size 2x2]\n",
      "\n"
     ]
    }
   ],
   "source": [
    "x = Variable(torch.ones(2, 2), requires_grad=True)\n",
    "print(x)\n",
    "y = x + 2\n",
    "print(y)\n",
    "z = y * y * 3\n",
    "out = z.mean()\n",
    "print(z, out)\n",
    "out.backward()\n",
    "print(x.grad) # dout/dx :)"
   ]
  },
  {
   "cell_type": "code",
   "execution_count": 13,
   "metadata": {
    "collapsed": true
   },
   "outputs": [],
   "source": [
    "w = Variable(torch.ones(2, 2), requires_grad=True)\n",
    "x = Variable(torch.ones(2, 4), requires_grad=False)\n",
    "y = (w.mm(x) + 2).mean()\n",
    "grad,  = torch.autograd.grad(y, w, create_graph=True, retain_graph=True)"
   ]
  },
  {
   "cell_type": "code",
   "execution_count": 14,
   "metadata": {
    "collapsed": false
   },
   "outputs": [
    {
     "data": {
      "image/svg+xml": [
       "<?xml version=\"1.0\" encoding=\"UTF-8\" standalone=\"no\"?>\n",
       "<!DOCTYPE svg PUBLIC \"-//W3C//DTD SVG 1.1//EN\"\n",
       " \"http://www.w3.org/Graphics/SVG/1.1/DTD/svg11.dtd\">\n",
       "<!-- Generated by graphviz version 2.38.0 (20140413.2041)\n",
       " -->\n",
       "<!-- Title: %3 Pages: 1 -->\n",
       "<svg width=\"206pt\" height=\"208pt\"\n",
       " viewBox=\"0.00 0.00 206.00 208.00\" xmlns=\"http://www.w3.org/2000/svg\" xmlns:xlink=\"http://www.w3.org/1999/xlink\">\n",
       "<g id=\"graph0\" class=\"graph\" transform=\"scale(1 1) rotate(0) translate(4 204)\">\n",
       "<title>%3</title>\n",
       "<polygon fill=\"white\" stroke=\"none\" points=\"-4,4 -4,-204 202,-204 202,4 -4,4\"/>\n",
       "<!-- 4630024272 -->\n",
       "<g id=\"node1\" class=\"node\"><title>4630024272</title>\n",
       "<polygon fill=\"lightgrey\" stroke=\"black\" points=\"144.967,-20 53.0332,-20 53.0332,-0 144.967,-0 144.967,-20\"/>\n",
       "<text text-anchor=\"middle\" x=\"99\" y=\"-6.4\" font-family=\"Times,serif\" font-size=\"12.00\">MeanBackward</text>\n",
       "</g>\n",
       "<!-- 4662058712 -->\n",
       "<g id=\"node2\" class=\"node\"><title>4662058712</title>\n",
       "<polygon fill=\"lightgrey\" stroke=\"black\" points=\"162.979,-76 35.0215,-76 35.0215,-56 162.979,-56 162.979,-76\"/>\n",
       "<text text-anchor=\"middle\" x=\"99\" y=\"-62.4\" font-family=\"Times,serif\" font-size=\"12.00\">AddConstantBackward</text>\n",
       "</g>\n",
       "<!-- 4662058712&#45;&gt;4630024272 -->\n",
       "<g id=\"edge1\" class=\"edge\"><title>4662058712&#45;&gt;4630024272</title>\n",
       "<path fill=\"none\" stroke=\"black\" d=\"M99,-55.5939C99,-48.7024 99,-39.1024 99,-30.5741\"/>\n",
       "<polygon fill=\"black\" stroke=\"black\" points=\"102.5,-30.2983 99,-20.2983 95.5001,-30.2983 102.5,-30.2983\"/>\n",
       "</g>\n",
       "<!-- 4662058464 -->\n",
       "<g id=\"node3\" class=\"node\"><title>4662058464</title>\n",
       "<polygon fill=\"lightgrey\" stroke=\"black\" points=\"150.979,-132 47.0215,-132 47.0215,-112 150.979,-112 150.979,-132\"/>\n",
       "<text text-anchor=\"middle\" x=\"99\" y=\"-118.4\" font-family=\"Times,serif\" font-size=\"12.00\">AddmmBackward</text>\n",
       "</g>\n",
       "<!-- 4662058464&#45;&gt;4662058712 -->\n",
       "<g id=\"edge2\" class=\"edge\"><title>4662058464&#45;&gt;4662058712</title>\n",
       "<path fill=\"none\" stroke=\"black\" d=\"M99,-111.594C99,-104.702 99,-95.1024 99,-86.5741\"/>\n",
       "<polygon fill=\"black\" stroke=\"black\" points=\"102.5,-86.2983 99,-76.2983 95.5001,-86.2983 102.5,-86.2983\"/>\n",
       "</g>\n",
       "<!-- 4664138832 -->\n",
       "<g id=\"node4\" class=\"node\"><title>4664138832</title>\n",
       "<polygon fill=\"lightblue\" stroke=\"black\" points=\"54,-200 0,-200 0,-168 54,-168 54,-200\"/>\n",
       "<text text-anchor=\"middle\" x=\"27\" y=\"-186.4\" font-family=\"Times,serif\" font-size=\"12.00\">w</text>\n",
       "<text text-anchor=\"middle\" x=\"27\" y=\"-174.4\" font-family=\"Times,serif\" font-size=\"12.00\"> (2, 2)</text>\n",
       "</g>\n",
       "<!-- 4664138832&#45;&gt;4662058464 -->\n",
       "<g id=\"edge3\" class=\"edge\"><title>4664138832&#45;&gt;4662058464</title>\n",
       "<path fill=\"none\" stroke=\"black\" d=\"M45.1686,-167.859C55.819,-158.984 69.255,-147.787 80.0394,-138.801\"/>\n",
       "<polygon fill=\"black\" stroke=\"black\" points=\"82.5742,-141.244 88.0158,-132.154 78.0929,-135.867 82.5742,-141.244\"/>\n",
       "</g>\n",
       "<!-- 4664086328 -->\n",
       "<g id=\"node5\" class=\"node\"><title>4664086328</title>\n",
       "<polygon fill=\"orange\" stroke=\"black\" points=\"126,-194 72,-194 72,-174 126,-174 126,-194\"/>\n",
       "<text text-anchor=\"middle\" x=\"99\" y=\"-180.4\" font-family=\"Times,serif\" font-size=\"12.00\">(2, 2)</text>\n",
       "</g>\n",
       "<!-- 4664086328&#45;&gt;4662058464 -->\n",
       "<g id=\"edge4\" class=\"edge\"><title>4664086328&#45;&gt;4662058464</title>\n",
       "<path fill=\"none\" stroke=\"black\" d=\"M99,-173.887C99,-165.517 99,-152.841 99,-142.235\"/>\n",
       "<polygon fill=\"black\" stroke=\"black\" points=\"102.5,-142.198 99,-132.198 95.5001,-142.199 102.5,-142.198\"/>\n",
       "</g>\n",
       "<!-- 4664086472 -->\n",
       "<g id=\"node6\" class=\"node\"><title>4664086472</title>\n",
       "<polygon fill=\"orange\" stroke=\"black\" points=\"198,-194 144,-194 144,-174 198,-174 198,-194\"/>\n",
       "<text text-anchor=\"middle\" x=\"171\" y=\"-180.4\" font-family=\"Times,serif\" font-size=\"12.00\">(2, 4)</text>\n",
       "</g>\n",
       "<!-- 4664086472&#45;&gt;4662058464 -->\n",
       "<g id=\"edge5\" class=\"edge\"><title>4664086472&#45;&gt;4662058464</title>\n",
       "<path fill=\"none\" stroke=\"black\" d=\"M160.065,-173.887C148.858,-164.548 131.218,-149.848 117.773,-138.644\"/>\n",
       "<polygon fill=\"black\" stroke=\"black\" points=\"119.961,-135.912 110.038,-132.198 115.48,-141.289 119.961,-135.912\"/>\n",
       "</g>\n",
       "</g>\n",
       "</svg>\n"
      ],
      "text/plain": [
       "<graphviz.dot.Digraph at 0x116011c90>"
      ]
     },
     "execution_count": 14,
     "metadata": {},
     "output_type": "execute_result"
    }
   ],
   "source": [
    "make_dot(y, params={\"w\": w})"
   ]
  },
  {
   "cell_type": "code",
   "execution_count": 15,
   "metadata": {
    "collapsed": false
   },
   "outputs": [
    {
     "data": {
      "image/svg+xml": [
       "<?xml version=\"1.0\" encoding=\"UTF-8\" standalone=\"no\"?>\n",
       "<!DOCTYPE svg PUBLIC \"-//W3C//DTD SVG 1.1//EN\"\n",
       " \"http://www.w3.org/Graphics/SVG/1.1/DTD/svg11.dtd\">\n",
       "<!-- Generated by graphviz version 2.38.0 (20140413.2041)\n",
       " -->\n",
       "<!-- Title: %3 Pages: 1 -->\n",
       "<svg width=\"252pt\" height=\"140pt\"\n",
       " viewBox=\"0.00 0.00 252.43 140.00\" xmlns=\"http://www.w3.org/2000/svg\" xmlns:xlink=\"http://www.w3.org/1999/xlink\">\n",
       "<g id=\"graph0\" class=\"graph\" transform=\"scale(1 1) rotate(0) translate(4 136)\">\n",
       "<title>%3</title>\n",
       "<polygon fill=\"white\" stroke=\"none\" points=\"-4,4 -4,-136 248.43,-136 248.43,4 -4,4\"/>\n",
       "<!-- 4630025264 -->\n",
       "<g id=\"node1\" class=\"node\"><title>4630025264</title>\n",
       "<polygon fill=\"lightgrey\" stroke=\"black\" points=\"176.635,-20 72.6777,-20 72.6777,-0 176.635,-0 176.635,-20\"/>\n",
       "<text text-anchor=\"middle\" x=\"124.656\" y=\"-6.4\" font-family=\"Times,serif\" font-size=\"12.00\">AddmmBackward</text>\n",
       "</g>\n",
       "<!-- 4630024768 -->\n",
       "<g id=\"node2\" class=\"node\"><title>4630024768</title>\n",
       "<polygon fill=\"lightgrey\" stroke=\"black\" points=\"113.457,-76 11.855,-76 11.855,-56 113.457,-56 113.457,-76\"/>\n",
       "<text text-anchor=\"middle\" x=\"62.6562\" y=\"-62.4\" font-family=\"Times,serif\" font-size=\"12.00\">ExpandBackward</text>\n",
       "</g>\n",
       "<!-- 4630024768&#45;&gt;4630025264 -->\n",
       "<g id=\"edge1\" class=\"edge\"><title>4630024768&#45;&gt;4630025264</title>\n",
       "<path fill=\"none\" stroke=\"black\" d=\"M73.1737,-55.8396C82.314,-47.8788 95.7543,-36.1727 106.61,-26.7175\"/>\n",
       "<polygon fill=\"black\" stroke=\"black\" points=\"109.052,-29.2322 114.294,-20.0251 104.455,-23.9536 109.052,-29.2322\"/>\n",
       "</g>\n",
       "<!-- 4630024520 -->\n",
       "<g id=\"node3\" class=\"node\"><title>4630024520</title>\n",
       "<polygon fill=\"lightgrey\" stroke=\"black\" points=\"125.469,-132 -0.156641,-132 -0.156641,-112 125.469,-112 125.469,-132\"/>\n",
       "<text text-anchor=\"middle\" x=\"62.6562\" y=\"-118.4\" font-family=\"Times,serif\" font-size=\"12.00\">DivConstantBackward</text>\n",
       "</g>\n",
       "<!-- 4630024520&#45;&gt;4630024768 -->\n",
       "<g id=\"edge2\" class=\"edge\"><title>4630024520&#45;&gt;4630024768</title>\n",
       "<path fill=\"none\" stroke=\"black\" d=\"M62.6562,-111.594C62.6562,-104.702 62.6562,-95.1024 62.6562,-86.5741\"/>\n",
       "<polygon fill=\"black\" stroke=\"black\" points=\"66.1563,-86.2983 62.6562,-76.2983 59.1563,-86.2983 66.1563,-86.2983\"/>\n",
       "</g>\n",
       "<!-- 4630025016 -->\n",
       "<g id=\"node4\" class=\"node\"><title>4630025016</title>\n",
       "<polygon fill=\"lightgrey\" stroke=\"black\" points=\"244.204,-76 131.108,-76 131.108,-56 244.204,-56 244.204,-76\"/>\n",
       "<text text-anchor=\"middle\" x=\"187.656\" y=\"-62.4\" font-family=\"Times,serif\" font-size=\"12.00\">TransposeBackward</text>\n",
       "</g>\n",
       "<!-- 4630025016&#45;&gt;4630025264 -->\n",
       "<g id=\"edge3\" class=\"edge\"><title>4630025016&#45;&gt;4630025264</title>\n",
       "<path fill=\"none\" stroke=\"black\" d=\"M176.969,-55.8396C167.681,-47.8788 154.024,-36.1727 142.993,-26.7175\"/>\n",
       "<polygon fill=\"black\" stroke=\"black\" points=\"145.056,-23.8756 135.186,-20.0251 140.5,-29.1904 145.056,-23.8756\"/>\n",
       "</g>\n",
       "</g>\n",
       "</svg>\n"
      ],
      "text/plain": [
       "<graphviz.dot.Digraph at 0x109977810>"
      ]
     },
     "execution_count": 15,
     "metadata": {},
     "output_type": "execute_result"
    }
   ],
   "source": [
    "make_dot(grad, params={\"w\": w, \"x\": x})"
   ]
  },
  {
   "cell_type": "markdown",
   "metadata": {},
   "source": [
    "# Third layer: torch.nn\n",
    "\n",
    "Not much about it now. We will work much closer with later."
   ]
  },
  {
   "cell_type": "code",
   "execution_count": 72,
   "metadata": {
    "collapsed": false
   },
   "outputs": [],
   "source": [
    "model = nn.Sequential()\n",
    "model.add_module('W0', nn.Linear(8, 16))\n",
    "model.add_module('tanh', nn.Tanh())\n",
    "model.add_module('W1', nn.Linear(16, 1))\n",
    "\n",
    "x = Variable(torch.randn(1,8))\n",
    "y = model(x)"
   ]
  },
  {
   "cell_type": "code",
   "execution_count": 73,
   "metadata": {
    "collapsed": false
   },
   "outputs": [
    {
     "data": {
      "image/svg+xml": [
       "<?xml version=\"1.0\" encoding=\"UTF-8\" standalone=\"no\"?>\n",
       "<!DOCTYPE svg PUBLIC \"-//W3C//DTD SVG 1.1//EN\"\n",
       " \"http://www.w3.org/Graphics/SVG/1.1/DTD/svg11.dtd\">\n",
       "<!-- Generated by graphviz version 2.38.0 (20140413.2041)\n",
       " -->\n",
       "<!-- Title: %3 Pages: 1 -->\n",
       "<svg width=\"587pt\" height=\"356pt\"\n",
       " viewBox=\"0.00 0.00 586.83 356.00\" xmlns=\"http://www.w3.org/2000/svg\" xmlns:xlink=\"http://www.w3.org/1999/xlink\">\n",
       "<g id=\"graph0\" class=\"graph\" transform=\"scale(1 1) rotate(0) translate(4 352)\">\n",
       "<title>%3</title>\n",
       "<polygon fill=\"white\" stroke=\"none\" points=\"-4,4 -4,-352 582.828,-352 582.828,4 -4,4\"/>\n",
       "<!-- 4392191768 -->\n",
       "<g id=\"node1\" class=\"node\"><title>4392191768</title>\n",
       "<polygon fill=\"lightgrey\" stroke=\"black\" points=\"423.795,-20 331.861,-20 331.861,-0 423.795,-0 423.795,-20\"/>\n",
       "<text text-anchor=\"middle\" x=\"377.828\" y=\"-6.4\" font-family=\"Times,serif\" font-size=\"12.00\">MeanBackward</text>\n",
       "</g>\n",
       "<!-- 4392191520 -->\n",
       "<g id=\"node2\" class=\"node\"><title>4392191520</title>\n",
       "<polygon fill=\"lightgrey\" stroke=\"black\" points=\"429.807,-76 325.85,-76 325.85,-56 429.807,-56 429.807,-76\"/>\n",
       "<text text-anchor=\"middle\" x=\"377.828\" y=\"-62.4\" font-family=\"Times,serif\" font-size=\"12.00\">AddmmBackward</text>\n",
       "</g>\n",
       "<!-- 4392191520&#45;&gt;4392191768 -->\n",
       "<g id=\"edge1\" class=\"edge\"><title>4392191520&#45;&gt;4392191768</title>\n",
       "<path fill=\"none\" stroke=\"black\" d=\"M377.828,-55.5939C377.828,-48.7024 377.828,-39.1024 377.828,-30.5741\"/>\n",
       "<polygon fill=\"black\" stroke=\"black\" points=\"381.328,-30.2983 377.828,-20.2983 374.328,-30.2983 381.328,-30.2983\"/>\n",
       "</g>\n",
       "<!-- 4391676624 -->\n",
       "<g id=\"node3\" class=\"node\"><title>4391676624</title>\n",
       "<polygon fill=\"lightblue\" stroke=\"black\" points=\"196.485,-144 141.171,-144 141.171,-112 196.485,-112 196.485,-144\"/>\n",
       "<text text-anchor=\"middle\" x=\"168.828\" y=\"-130.4\" font-family=\"Times,serif\" font-size=\"12.00\">W1.bias</text>\n",
       "<text text-anchor=\"middle\" x=\"168.828\" y=\"-118.4\" font-family=\"Times,serif\" font-size=\"12.00\"> (1)</text>\n",
       "</g>\n",
       "<!-- 4391676624&#45;&gt;4392191520 -->\n",
       "<g id=\"edge2\" class=\"edge\"><title>4391676624&#45;&gt;4392191520</title>\n",
       "<path fill=\"none\" stroke=\"black\" d=\"M196.565,-115.307C199.669,-114.132 202.802,-113.005 205.828,-112 246.221,-98.5905 293.001,-86.5711 327.569,-78.3346\"/>\n",
       "<polygon fill=\"black\" stroke=\"black\" points=\"328.502,-81.7108 337.431,-76.0084 326.895,-74.8978 328.502,-81.7108\"/>\n",
       "</g>\n",
       "<!-- 4392191024 -->\n",
       "<g id=\"node4\" class=\"node\"><title>4392191024</title>\n",
       "<polygon fill=\"lightgrey\" stroke=\"black\" points=\"303.292,-138 214.364,-138 214.364,-118 303.292,-118 303.292,-138\"/>\n",
       "<text text-anchor=\"middle\" x=\"258.828\" y=\"-124.4\" font-family=\"Times,serif\" font-size=\"12.00\">TanhBackward</text>\n",
       "</g>\n",
       "<!-- 4392191024&#45;&gt;4392191520 -->\n",
       "<g id=\"edge3\" class=\"edge\"><title>4392191024&#45;&gt;4392191520</title>\n",
       "<path fill=\"none\" stroke=\"black\" d=\"M276.902,-117.887C296.586,-107.962 328.28,-91.9822 350.898,-80.5782\"/>\n",
       "<polygon fill=\"black\" stroke=\"black\" points=\"352.621,-83.6293 359.974,-76.0019 349.469,-77.3788 352.621,-83.6293\"/>\n",
       "</g>\n",
       "<!-- 4392190776 -->\n",
       "<g id=\"node5\" class=\"node\"><title>4392190776</title>\n",
       "<polygon fill=\"lightgrey\" stroke=\"black\" points=\"233.807,-206 129.85,-206 129.85,-186 233.807,-186 233.807,-206\"/>\n",
       "<text text-anchor=\"middle\" x=\"181.828\" y=\"-192.4\" font-family=\"Times,serif\" font-size=\"12.00\">AddmmBackward</text>\n",
       "</g>\n",
       "<!-- 4392190776&#45;&gt;4392191024 -->\n",
       "<g id=\"edge4\" class=\"edge\"><title>4392190776&#45;&gt;4392191024</title>\n",
       "<path fill=\"none\" stroke=\"black\" d=\"M192.535,-185.823C204.947,-175.184 225.613,-157.471 240.575,-144.645\"/>\n",
       "<polygon fill=\"black\" stroke=\"black\" points=\"242.898,-147.264 248.213,-138.099 238.342,-141.95 242.898,-147.264\"/>\n",
       "</g>\n",
       "<!-- 4391677072 -->\n",
       "<g id=\"node6\" class=\"node\"><title>4391677072</title>\n",
       "<polygon fill=\"lightblue\" stroke=\"black\" points=\"55.4854,-280 0.17082,-280 0.17082,-248 55.4854,-248 55.4854,-280\"/>\n",
       "<text text-anchor=\"middle\" x=\"27.8281\" y=\"-266.4\" font-family=\"Times,serif\" font-size=\"12.00\">W0.bias</text>\n",
       "<text text-anchor=\"middle\" x=\"27.8281\" y=\"-254.4\" font-family=\"Times,serif\" font-size=\"12.00\"> (16)</text>\n",
       "</g>\n",
       "<!-- 4391677072&#45;&gt;4392190776 -->\n",
       "<g id=\"edge5\" class=\"edge\"><title>4391677072&#45;&gt;4392190776</title>\n",
       "<path fill=\"none\" stroke=\"black\" d=\"M55.7164,-251.048C82.6986,-239.484 123.49,-222.002 151.323,-210.073\"/>\n",
       "<polygon fill=\"black\" stroke=\"black\" points=\"152.772,-213.261 160.584,-206.104 150.014,-206.827 152.772,-213.261\"/>\n",
       "</g>\n",
       "<!-- 4392190528 -->\n",
       "<g id=\"node7\" class=\"node\"><title>4392190528</title>\n",
       "<polygon fill=\"lightgrey\" stroke=\"black\" points=\"187.376,-274 74.2803,-274 74.2803,-254 187.376,-254 187.376,-274\"/>\n",
       "<text text-anchor=\"middle\" x=\"130.828\" y=\"-260.4\" font-family=\"Times,serif\" font-size=\"12.00\">TransposeBackward</text>\n",
       "</g>\n",
       "<!-- 4392190528&#45;&gt;4392190776 -->\n",
       "<g id=\"edge6\" class=\"edge\"><title>4392190528&#45;&gt;4392190776</title>\n",
       "<path fill=\"none\" stroke=\"black\" d=\"M137.919,-253.823C145.836,-243.578 158.822,-226.773 168.622,-214.09\"/>\n",
       "<polygon fill=\"black\" stroke=\"black\" points=\"171.452,-216.152 174.797,-206.099 165.913,-211.872 171.452,-216.152\"/>\n",
       "</g>\n",
       "<!-- 4617546832 -->\n",
       "<g id=\"node8\" class=\"node\"><title>4617546832</title>\n",
       "<polygon fill=\"lightblue\" stroke=\"black\" points=\"165.314,-348 96.3418,-348 96.3418,-316 165.314,-316 165.314,-348\"/>\n",
       "<text text-anchor=\"middle\" x=\"130.828\" y=\"-334.4\" font-family=\"Times,serif\" font-size=\"12.00\">W0.weight</text>\n",
       "<text text-anchor=\"middle\" x=\"130.828\" y=\"-322.4\" font-family=\"Times,serif\" font-size=\"12.00\"> (16, 8)</text>\n",
       "</g>\n",
       "<!-- 4617546832&#45;&gt;4392190528 -->\n",
       "<g id=\"edge7\" class=\"edge\"><title>4617546832&#45;&gt;4392190528</title>\n",
       "<path fill=\"none\" stroke=\"black\" d=\"M130.828,-315.692C130.828,-306.396 130.828,-294.44 130.828,-284.474\"/>\n",
       "<polygon fill=\"black\" stroke=\"black\" points=\"134.328,-284.316 130.828,-274.316 127.328,-284.316 134.328,-284.316\"/>\n",
       "</g>\n",
       "<!-- 4617504456 -->\n",
       "<g id=\"node9\" class=\"node\"><title>4617504456</title>\n",
       "<polygon fill=\"orange\" stroke=\"black\" points=\"259.828,-274 205.828,-274 205.828,-254 259.828,-254 259.828,-274\"/>\n",
       "<text text-anchor=\"middle\" x=\"232.828\" y=\"-260.4\" font-family=\"Times,serif\" font-size=\"12.00\">(1, 8)</text>\n",
       "</g>\n",
       "<!-- 4617504456&#45;&gt;4392190776 -->\n",
       "<g id=\"edge8\" class=\"edge\"><title>4617504456&#45;&gt;4392190776</title>\n",
       "<path fill=\"none\" stroke=\"black\" d=\"M225.737,-253.823C217.82,-243.578 204.834,-226.773 195.034,-214.09\"/>\n",
       "<polygon fill=\"black\" stroke=\"black\" points=\"197.743,-211.872 188.859,-206.099 192.204,-216.152 197.743,-211.872\"/>\n",
       "</g>\n",
       "<!-- 4617504528 -->\n",
       "<g id=\"node10\" class=\"node\"><title>4617504528</title>\n",
       "<polygon fill=\"orange\" stroke=\"black\" points=\"331.828,-274 277.828,-274 277.828,-254 331.828,-254 331.828,-274\"/>\n",
       "<text text-anchor=\"middle\" x=\"304.828\" y=\"-260.4\" font-family=\"Times,serif\" font-size=\"12.00\">(8, 16)</text>\n",
       "</g>\n",
       "<!-- 4617504528&#45;&gt;4392190776 -->\n",
       "<g id=\"edge9\" class=\"edge\"><title>4617504528&#45;&gt;4392190776</title>\n",
       "<path fill=\"none\" stroke=\"black\" d=\"M287.983,-253.961C267.306,-242.866 232.015,-223.93 207.842,-210.959\"/>\n",
       "<polygon fill=\"black\" stroke=\"black\" points=\"209.331,-207.785 198.864,-206.141 206.021,-213.954 209.331,-207.785\"/>\n",
       "</g>\n",
       "<!-- 4617504600 -->\n",
       "<g id=\"node11\" class=\"node\"><title>4617504600</title>\n",
       "<polygon fill=\"orange\" stroke=\"black\" points=\"305.828,-206 251.828,-206 251.828,-186 305.828,-186 305.828,-206\"/>\n",
       "<text text-anchor=\"middle\" x=\"278.828\" y=\"-192.4\" font-family=\"Times,serif\" font-size=\"12.00\">(1, 16)</text>\n",
       "</g>\n",
       "<!-- 4617504600&#45;&gt;4392191024 -->\n",
       "<g id=\"edge10\" class=\"edge\"><title>4617504600&#45;&gt;4392191024</title>\n",
       "<path fill=\"none\" stroke=\"black\" d=\"M276.047,-185.823C273.092,-176.07 268.335,-160.374 264.569,-147.947\"/>\n",
       "<polygon fill=\"black\" stroke=\"black\" points=\"267.835,-146.654 261.585,-138.099 261.136,-148.684 267.835,-146.654\"/>\n",
       "</g>\n",
       "<!-- 4392191272 -->\n",
       "<g id=\"node12\" class=\"node\"><title>4392191272</title>\n",
       "<polygon fill=\"lightgrey\" stroke=\"black\" points=\"434.376,-138 321.28,-138 321.28,-118 434.376,-118 434.376,-138\"/>\n",
       "<text text-anchor=\"middle\" x=\"377.828\" y=\"-124.4\" font-family=\"Times,serif\" font-size=\"12.00\">TransposeBackward</text>\n",
       "</g>\n",
       "<!-- 4392191272&#45;&gt;4392191520 -->\n",
       "<g id=\"edge11\" class=\"edge\"><title>4392191272&#45;&gt;4392191520</title>\n",
       "<path fill=\"none\" stroke=\"black\" d=\"M377.828,-117.887C377.828,-109.517 377.828,-96.8414 377.828,-86.235\"/>\n",
       "<polygon fill=\"black\" stroke=\"black\" points=\"381.328,-86.1984 377.828,-76.1985 374.328,-86.1985 381.328,-86.1984\"/>\n",
       "</g>\n",
       "<!-- 4391749584 -->\n",
       "<g id=\"node13\" class=\"node\"><title>4391749584</title>\n",
       "<polygon fill=\"lightblue\" stroke=\"black\" points=\"412.314,-212 343.342,-212 343.342,-180 412.314,-180 412.314,-212\"/>\n",
       "<text text-anchor=\"middle\" x=\"377.828\" y=\"-198.4\" font-family=\"Times,serif\" font-size=\"12.00\">W1.weight</text>\n",
       "<text text-anchor=\"middle\" x=\"377.828\" y=\"-186.4\" font-family=\"Times,serif\" font-size=\"12.00\"> (1, 16)</text>\n",
       "</g>\n",
       "<!-- 4391749584&#45;&gt;4392191272 -->\n",
       "<g id=\"edge12\" class=\"edge\"><title>4391749584&#45;&gt;4392191272</title>\n",
       "<path fill=\"none\" stroke=\"black\" d=\"M377.828,-179.692C377.828,-170.396 377.828,-158.44 377.828,-148.474\"/>\n",
       "<polygon fill=\"black\" stroke=\"black\" points=\"381.328,-148.316 377.828,-138.316 374.328,-148.316 381.328,-148.316\"/>\n",
       "</g>\n",
       "<!-- 4617504744 -->\n",
       "<g id=\"node14\" class=\"node\"><title>4617504744</title>\n",
       "<polygon fill=\"orange\" stroke=\"black\" points=\"506.828,-138 452.828,-138 452.828,-118 506.828,-118 506.828,-138\"/>\n",
       "<text text-anchor=\"middle\" x=\"479.828\" y=\"-124.4\" font-family=\"Times,serif\" font-size=\"12.00\">(1, 16)</text>\n",
       "</g>\n",
       "<!-- 4617504744&#45;&gt;4392191520 -->\n",
       "<g id=\"edge13\" class=\"edge\"><title>4617504744&#45;&gt;4392191520</title>\n",
       "<path fill=\"none\" stroke=\"black\" d=\"M464.337,-117.887C447.765,-108.14 421.265,-92.551 401.957,-81.1934\"/>\n",
       "<polygon fill=\"black\" stroke=\"black\" points=\"403.525,-78.0553 393.131,-76.0019 399.976,-84.0889 403.525,-78.0553\"/>\n",
       "</g>\n",
       "<!-- 4617504672 -->\n",
       "<g id=\"node15\" class=\"node\"><title>4617504672</title>\n",
       "<polygon fill=\"orange\" stroke=\"black\" points=\"578.828,-138 524.828,-138 524.828,-118 578.828,-118 578.828,-138\"/>\n",
       "<text text-anchor=\"middle\" x=\"551.828\" y=\"-124.4\" font-family=\"Times,serif\" font-size=\"12.00\">(16, 1)</text>\n",
       "</g>\n",
       "<!-- 4617504672&#45;&gt;4392191520 -->\n",
       "<g id=\"edge14\" class=\"edge\"><title>4617504672&#45;&gt;4392191520</title>\n",
       "<path fill=\"none\" stroke=\"black\" d=\"M531,-117.991C526.056,-115.945 520.78,-113.836 515.828,-112 483.104,-99.869 445.399,-87.6935 417.679,-79.0719\"/>\n",
       "<polygon fill=\"black\" stroke=\"black\" points=\"418.534,-75.6727 407.946,-76.063 416.466,-82.3604 418.534,-75.6727\"/>\n",
       "</g>\n",
       "</g>\n",
       "</svg>\n"
      ],
      "text/plain": [
       "<graphviz.dot.Digraph at 0x106d8f2d0>"
      ]
     },
     "execution_count": 73,
     "metadata": {},
     "output_type": "execute_result"
    }
   ],
   "source": [
    "make_dot(y.mean(), params=dict(model.named_parameters()))"
   ]
  },
  {
   "cell_type": "markdown",
   "metadata": {},
   "source": [
    "# Multinomial logistic regression\n",
    "\n",
    "(Using PyTorch)\n",
    "\n",
    "## Useful equations\n",
    "\n",
    "Let $D$ denote input dimension, $K$ denote number of classes. Class probabilities are given by the softmax distribution:\n",
    "\n",
    "<br>\n",
    "<font size=4>\n",
    "$ p(\\textbf{y} = k | \\textbf{x}, \\textbf{w}) = \\frac{\\exp(\\langle\\textbf{w}_k, \\textbf{x}\\rangle)}{\\sum_i^{K} \\exp(\\langle\\textbf{w}_i, \\textbf{x}\\rangle)}$\n",
    "</font>\n",
    "\n",
    ", where $w \\in \\mathbb{R}^{(K, D)}$, $w_k$ denotes $k^{th}$ row of the $w$ matrix. For $K=2$ equivalent to the binomial logistic regression discussed in the previous notebook:\n",
    "\n",
    "<br>\n",
    "<font size=4>\n",
    "$ p(\\textbf{y} | \\textbf{x}, \\textbf{w}) = \\sigma(\\langle\\textbf{w}, \\textbf{x}\\rangle)$\n",
    "</font>\n",
    "\n",
    "Same as in binary case, loss is the cross-entropy loss:\n",
    "\n",
    "<br>\n",
    "<font size=4>\n",
    "$ L(\\textbf{w}) = -\\sum_i y_i \\log(p(\\textbf{y_i} | \\textbf{x_i}, \\textbf{w}))$\n",
    "</font>\n"
   ]
  },
  {
   "cell_type": "markdown",
   "metadata": {},
   "source": [
    "## Implement helper functions \n",
    "\n",
    "Hint: very similar to 2a_logistic_regression"
   ]
  },
  {
   "cell_type": "code",
   "execution_count": 86,
   "metadata": {
    "collapsed": false
   },
   "outputs": [],
   "source": [
    "def cross_entropy_loss(y_pred, y):\n",
    "    \"\"\"\n",
    "    Parameters\n",
    "    ----------\n",
    "    y_pred: torch.Variable, shape: (batch_size, K)\n",
    "        Probabiities\n",
    "    y: torch.Variable, shape: (batch_size,)\n",
    "        Correct classes\n",
    "    \n",
    "    Returns\n",
    "    -------\n",
    "    loss: torch.Variable, shape: (1, )\n",
    "        Cross entropy loss\n",
    "    \"\"\"\n",
    "    # Hint: use y as indexes to retrieve appropriate columns of y_pred\n",
    "    ??\n",
    "\n",
    "def softmax(h):\n",
    "    \"\"\"\n",
    "    Parameters\n",
    "    ----------\n",
    "    h: torch.Variable, shape: (batch_size, K)\n",
    "        Logits\n",
    "    \n",
    "    Returns\n",
    "    -------\n",
    "    y_pred: torch.Variable, shape: (batch_size, K)\n",
    "        Softmax on h\n",
    "    \"\"\"\n",
    "    ??\n",
    "\n",
    "def forward(x, w):\n",
    "    return softmax(x.mm(w))\n",
    "\n",
    "def evaluate(w):\n",
    "    x = Variable(x_test)\n",
    "    y_test_pred = forward(x, w).data.numpy()\n",
    "    return np.mean(y_test_pred.argmax(axis=1) == y_test.numpy())"
   ]
  },
  {
   "cell_type": "code",
   "execution_count": 13,
   "metadata": {
    "collapsed": false
   },
   "outputs": [
    {
     "ename": "NameError",
     "evalue": "name 'softmax' is not defined",
     "output_type": "error",
     "traceback": [
      "\u001b[0;31m---------------------------------------------------------------------------\u001b[0m",
      "\u001b[0;31mNameError\u001b[0m                                 Traceback (most recent call last)",
      "\u001b[0;32m<ipython-input-13-b5fa86e7a1c0>\u001b[0m in \u001b[0;36m<module>\u001b[0;34m()\u001b[0m\n\u001b[1;32m      6\u001b[0m \u001b[0my\u001b[0m \u001b[0;34m=\u001b[0m \u001b[0mVariable\u001b[0m\u001b[0;34m(\u001b[0m\u001b[0my_train\u001b[0m\u001b[0;34m[\u001b[0m\u001b[0;36m0\u001b[0m\u001b[0;34m:\u001b[0m\u001b[0;36m100\u001b[0m\u001b[0;34m]\u001b[0m\u001b[0;34m,\u001b[0m \u001b[0mrequires_grad\u001b[0m\u001b[0;34m=\u001b[0m\u001b[0mFalse\u001b[0m\u001b[0;34m)\u001b[0m \u001b[0;31m# No grad wrt to data\u001b[0m\u001b[0;34m\u001b[0m\u001b[0m\n\u001b[1;32m      7\u001b[0m \u001b[0mw\u001b[0m \u001b[0;34m=\u001b[0m \u001b[0mVariable\u001b[0m\u001b[0;34m(\u001b[0m\u001b[0mtorch\u001b[0m\u001b[0;34m.\u001b[0m\u001b[0mrandn\u001b[0m\u001b[0;34m(\u001b[0m\u001b[0mD\u001b[0m\u001b[0;34m,\u001b[0m \u001b[0mK\u001b[0m\u001b[0;34m)\u001b[0m\u001b[0;34m,\u001b[0m \u001b[0mrequires_grad\u001b[0m\u001b[0;34m=\u001b[0m\u001b[0mTrue\u001b[0m\u001b[0;34m)\u001b[0m \u001b[0;31m# Grad wrt to weights!\u001b[0m\u001b[0;34m\u001b[0m\u001b[0m\n\u001b[0;32m----> 8\u001b[0;31m \u001b[0my_pred\u001b[0m \u001b[0;34m=\u001b[0m \u001b[0msoftmax\u001b[0m\u001b[0;34m(\u001b[0m\u001b[0mx\u001b[0m\u001b[0;34m.\u001b[0m\u001b[0mmm\u001b[0m\u001b[0;34m(\u001b[0m\u001b[0mw\u001b[0m\u001b[0;34m)\u001b[0m\u001b[0;34m)\u001b[0m\u001b[0;34m\u001b[0m\u001b[0m\n\u001b[0m\u001b[1;32m      9\u001b[0m \u001b[0;34m\u001b[0m\u001b[0m\n\u001b[1;32m     10\u001b[0m \u001b[0myours\u001b[0m \u001b[0;34m=\u001b[0m \u001b[0mcross_entropy_loss\u001b[0m\u001b[0;34m(\u001b[0m\u001b[0my_pred\u001b[0m\u001b[0;34m,\u001b[0m \u001b[0my\u001b[0m\u001b[0;34m)\u001b[0m\u001b[0;34m.\u001b[0m\u001b[0mdata\u001b[0m\u001b[0;34m[\u001b[0m\u001b[0;36m0\u001b[0m\u001b[0;34m]\u001b[0m\u001b[0;34m\u001b[0m\u001b[0m\n",
      "\u001b[0;31mNameError\u001b[0m: name 'softmax' is not defined"
     ]
    }
   ],
   "source": [
    "# Asserts to help you implement the functions.\n",
    "D = 785\n",
    "K = 10\n",
    "\n",
    "x = Variable(x_train[0:100], requires_grad=False) # No grad wrt to data\n",
    "y = Variable(y_train[0:100], requires_grad=False) # No grad wrt to data \n",
    "w = Variable(torch.randn(D, K), requires_grad=True) # Grad wrt to weights!\n",
    "y_pred = softmax(x.mm(w))\n",
    "\n",
    "yours = cross_entropy_loss(y_pred, y).data[0]\n",
    "correct = nn.CrossEntropyLoss()(x.mm(w), y).data[0]\n",
    "assert np.allclose(yours, correct, atol=0.01)\n",
    "\n",
    "yours = softmax(x.mm(w)).data.numpy()\n",
    "correct = F.softmax(x.mm(w)).data.numpy()\n",
    "assert np.allclose(yours, correct, atol=0.01)"
   ]
  },
  {
   "cell_type": "code",
   "execution_count": 57,
   "metadata": {
    "collapsed": true
   },
   "outputs": [],
   "source": [
    "def train_logistic_regression(lr=0.1, n_epochs=100, batch_size=100):\n",
    "    \"\"\"\n",
    "    Parameters\n",
    "    ----------\n",
    "    lr: float\n",
    "        Learning rate used in SGD\n",
    "    n_epochs: int\n",
    "        Number of epochs to train\n",
    "    use_autograd: bool\n",
    "        If true will use PyTorch autograd\n",
    "    \n",
    "    Returns\n",
    "    -------\n",
    "    w: np.array, shape: (D_in, D_out)\n",
    "        Found parameters\n",
    "    \"\"\"\n",
    "    \n",
    "    n_epochs = 100\n",
    "    batch_size = 100\n",
    "    learning_rate = 0.1\n",
    "    use_autograd = True\n",
    "\n",
    "    # 784 + bias -> 10 model\n",
    "    D, K = 784 + 1, 10 \n",
    "\n",
    "    # Define all Variables used in the computation\n",
    "    dtype = torch.FloatTensor\n",
    "    x = Variable(torch.randn(batch_size, D).type(dtype), requires_grad=False) # No grad wrt to data\n",
    "    y = Variable(torch.randn(batch_size, K).type(dtype), requires_grad=False) # No grad wrt to data\n",
    "    w = Variable(torch.randn(D, K).type(dtype), requires_grad=True) # Grad wrt to weights!\n",
    "\n",
    "    loss_history = []\n",
    "    for epoch in tqdm.tqdm(range(n_epochs), total=n_epochs):    \n",
    "        for batch in range(len(x_train) // batch_size):\n",
    "            # Sample data\n",
    "            x_batch = x_train[batch*batch_size:(batch+1)*batch_size]\n",
    "            y_batch = y_train[batch*batch_size:(batch+1)*batch_size]\n",
    "\n",
    "            x_batch = Variable(x_batch.type(torch.FloatTensor), requires_grad=False)\n",
    "            y_batch = Variable(y_batch.type(torch.LongTensor), requires_grad=False)\n",
    "\n",
    "            y_pred = ?? # Hint: use forward\n",
    "            loss = ?? # Hint: cross_entropy_loss\n",
    "\n",
    "            if batch == 0:\n",
    "                loss_history.append(loss.data.numpy())\n",
    "\n",
    "            # Compute grad_w\n",
    "            grad_w = ?? # Hint: use w.grad and backward. Google if needed.\n",
    "\n",
    "            # Update weights using gradient descent\n",
    "            w.data -= # Hint: use learning rate and computed gradient\n",
    "\n",
    "            ?? # You need to zero gradients, before next batch.  Google if needed.\n",
    "\n",
    "    plt.plot(loss_history)\n",
    "    plt.xlabel(\"Epoch\")\n",
    "    plt.ylabel(\"Loss\")\n",
    "    \n",
    "    return w"
   ]
  },
  {
   "cell_type": "markdown",
   "metadata": {},
   "source": [
    "# Tests\n",
    "\n",
    "Each notebook will terminate with Tests section. This will automatically grade and assign points."
   ]
  },
  {
   "cell_type": "code",
   "execution_count": 84,
   "metadata": {
    "collapsed": false
   },
   "outputs": [
    {
     "name": "stderr",
     "output_type": "stream",
     "text": [
      "                                                "
     ]
    },
    {
     "name": "stdout",
     "output_type": "stream",
     "text": [
      "Evaluation results:\n",
      "===========\n",
      "{'test1': 1}\n"
     ]
    },
    {
     "name": "stderr",
     "output_type": "stream",
     "text": [
      "\r"
     ]
    },
    {
     "data": {
      "image/png": "[encoded data removed]",
      "text/plain": [
       "<matplotlib.figure.Figure at 0x11afc6e90>"
      ]
     },
     "metadata": {},
     "output_type": "display_data"
    }
   ],
   "source": [
    "result = {}\n",
    "result['test1'] = int(evaluate(train_logistic_regression(n_epochs=100, lr=0.1)) > 0.6)\n",
    "print(\"Evaluation results:\\n===========\")\n",
    "print(result)\n",
    "json.dump(result, open(\"2b_pytorch.json\", \"w\"))"
   ]
  }
 ],
 "metadata": {
  "kernelspec": {
   "display_name": "Python 2",
   "language": "python",
   "name": "python2"
  },
  "language_info": {
   "codemirror_mode": {
    "name": "ipython",
    "version": 2
   },
   "file_extension": ".py",
   "mimetype": "text/x-python",
   "name": "python",
   "nbconvert_exporter": "python",
   "pygments_lexer": "ipython2",
   "version": "2.7.13"
  },
  "toc": {
   "toc_cell": false,
   "toc_number_sections": true,
   "toc_threshold": 6,
   "toc_window_display": false
  }
 },
 "nbformat": 4,
 "nbformat_minor": 0
}
