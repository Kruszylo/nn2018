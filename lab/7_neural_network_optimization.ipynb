{
 "cells": [
  {
   "cell_type": "markdown",
   "metadata": {
    "collapsed": true
   },
   "source": [
    "# Optimization\n",
    "\n",
    "Today we will try to understand SGD hyperparameters: learning rate, batch size and momentum. This should provide  context for the last two lectures.\n",
    "\n",
    "Goal is to:\n",
    "* Learn to use train/valid curve (more on that in \"Nuts and bolts\" lab)\n",
    "* Understand basics of generalization (more on that in \"Understanding generalization\" lab)\n",
    "* Understand some of the math behind SGD\n",
    "* Understand role of hyperparameters in SGD"
   ]
  },
  {
   "cell_type": "markdown",
   "metadata": {},
   "source": [
    "# Generalization and learning curves"
   ]
  },
  {
   "cell_type": "markdown",
   "metadata": {},
   "source": [
    "It is easy to overfitt\n",
    "\n",
    "<img width=300 src=\"fig/7/overfittingspiral.png\">"
   ]
  },
  {
   "cell_type": "markdown",
   "metadata": {},
   "source": [
    "# Noise in SGD"
   ]
  }
 ],
 "metadata": {
  "kernelspec": {
   "display_name": "Python 2",
   "language": "python",
   "name": "python2"
  },
  "language_info": {
   "codemirror_mode": {
    "name": "ipython",
    "version": 2
   },
   "file_extension": ".py",
   "mimetype": "text/x-python",
   "name": "python",
   "nbconvert_exporter": "python",
   "pygments_lexer": "ipython2",
   "version": "2.7.13"
  },
  "toc": {
   "toc_cell": false,
   "toc_number_sections": true,
   "toc_threshold": 6,
   "toc_window_display": false
  }
 },
 "nbformat": 4,
 "nbformat_minor": 0
}
