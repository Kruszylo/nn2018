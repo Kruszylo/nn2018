{
 "cells": [
  {
   "cell_type": "markdown",
   "metadata": {},
   "source": [
    "# Dropout and Batch Normalization\n",
    "\n",
    "In this notebook we will implement Dropout and Batch Normalization. Batch Normalization both improves generalization and training speed. Dropout is considered to be a regularization technique.\n",
    "\n",
    "Goal of this lab is to:\n",
    "\n",
    "* Implement and understand basic aspects of Dropout\n",
    "* Implement and understand basic aspects of Batch Normalization\n",
    "\n",
    "References:\n",
    "* \"Dropout: A Simple Way to Prevent Neural Networks from Overfitting\": https://www.cs.toronto.edu/~hinton/absps/JMLRdropout.pdf\n",
    "\n",
    "* \"Batch Normalization: Accelerating Deep Network Training by Reducing Internal Covariate Shift\": https://arxiv.org/abs/1502.03167"
   ]
  },
  {
   "cell_type": "markdown",
   "metadata": {},
   "source": [
    "# Setup"
   ]
  },
  {
   "cell_type": "code",
   "execution_count": 2,
   "metadata": {
    "collapsed": false
   },
   "outputs": [
    {
     "name": "stdout",
     "output_type": "stream",
     "text": [
      "Using Theano backend.\n"
     ]
    }
   ],
   "source": [
    "%load_ext autoreload\n",
    "%autoreload \n",
    "%matplotlib inline\n",
    "\n",
    "import json\n",
    "import matplotlib as mpl\n",
    "from src import fmnist_utils\n",
    "from src.fmnist_utils import *\n",
    "\n",
    "import torch\n",
    "from torch.autograd.function import InplaceFunction\n",
    "from torch.autograd import Variable\n",
    "from itertools import repeat\n",
    "from torch import nn\n",
    "from torch import optim"
   ]
  },
  {
   "cell_type": "code",
   "execution_count": 3,
   "metadata": {
    "collapsed": false
   },
   "outputs": [],
   "source": [
    "def plot(H):\n",
    "    plt.title(max(H['test_acc']))\n",
    "    plt.plot(H['acc'], label=\"acc\")\n",
    "    plt.plot(H['test_acc'], label=\"test_acc\")\n",
    "    plt.legend()\n",
    "\n",
    "mpl.rcParams['lines.linewidth'] = 2\n",
    "mpl.rcParams['figure.figsize'] = (7, 7)\n",
    "mpl.rcParams['axes.titlesize'] = 12\n",
    "mpl.rcParams['axes.labelsize'] = 12\n",
    "\n",
    "(x_train, y_train), (x_test, y_test) = fmnist_utils.get_data(which=\"mnist\")"
   ]
  },
  {
   "cell_type": "markdown",
   "metadata": {},
   "source": [
    "# Whiteboard exercises\n",
    "\n",
    "* (1.0, only this lab) Write equations for training and inference phase of Dropout. Explain inference mode of Dropout (see https://www.cs.toronto.edu/~hinton/absps/JMLRdropout.pdf, p 1531)\n",
    "* (0.5, only this lab) Write equations for training and inference phase of Batch Normalization\n",
    "* (0.5) Using either stability, or bias-variance perspective on generalization, argue why Dropout should prevent overfitting? \n",
    "* (0.5) Can Batch Normalization prevent vanishing gradient? How?\n",
    "* (1.0) Yet another perspective on generalization in Deep Networks is through the lenses of memorization, see https://arxiv.org/abs/1611.03530. Do you think Dropout prevents or encourages memorization? \n",
    "\n",
    "(And any left-out exercise from the previous lab)"
   ]
  },
  {
   "cell_type": "markdown",
   "metadata": {},
   "source": [
    "# Dropout\n",
    "\n",
    "Note: We use MNIST to be able to quickly and in a stable way fit data, which makes it a good target for studying generalization."
   ]
  },
  {
   "cell_type": "markdown",
   "metadata": {},
   "source": [
    "## Exercise 1: Implement and show better generalization of Dropout\n",
    "\n",
    "Answer the following questions using the provided starting code and model:\n",
    "\n",
    "a) What train and test accuracy did you achieve without dropout?\n",
    "\n",
    "b) What train and test accuracy did you achieve with dropout (maximum with respect to different choices of alpha)?\n",
    "\n",
    "Hint: use torch.rand()"
   ]
  },
  {
   "cell_type": "code",
   "execution_count": 14,
   "metadata": {
    "collapsed": true
   },
   "outputs": [],
   "source": [
    "import pdb\n",
    "class BernoulliDropout(nn.Module):\n",
    "    def __init__(self, alpha=1.0):\n",
    "        super(BernoulliDropout, self).__init__()\n",
    "        self.alpha = torch.Tensor([alpha])\n",
    "        \n",
    "    def forward(self, x):\n",
    "        \"\"\"\n",
    "        Sample noise e ~ B(alpha)\n",
    "        Multiply noise h = h_ * e\n",
    "        \"\"\"\n",
    "        if self.train():\n",
    "            #forward for Dropout scenario\n",
    "            #new_x = x\n",
    "            #for i in range(0,x.shape[1]):\n",
    "            #pdb.set_trace()\n",
    "            x = Variable(torch.bernoulli(self.alpha*torch.ones(1, x[:1,:].shape[1]) ))*x\n",
    "            return x\n",
    "        else:\n",
    "            #forward for scenario without Dropout\n",
    "            return x\n",
    "#x_train[:,:1].shape\n",
    "#(torch.bernoulli(0.5*x_train[:,:1]))*x_train"
   ]
  },
  {
   "cell_type": "code",
   "execution_count": 12,
   "metadata": {
    "collapsed": true
   },
   "outputs": [],
   "source": []
  },
  {
   "cell_type": "code",
   "execution_count": 88,
   "metadata": {},
   "outputs": [],
   "source": [
    "answers = {\"a\": \"Very good, result is aproximately 0.83\", \"b\": \"Result is about .87 when alpha = 0.93\"}\n",
    "json.dump(answers, open(\"8_ex1.json\", \"w\"))"
   ]
  },
  {
   "cell_type": "code",
   "execution_count": 9,
   "metadata": {
    "collapsed": false
   },
   "outputs": [],
   "source": [
    "## Starting code\n",
    "\n",
    "input_dim = 784\n",
    "output_dim = 10\n",
    "alpha = 0.93\n",
    "hidden_dims =  [50, 50, 50]\n",
    "model = torch.nn.Sequential()\n",
    "previous_dim = input_dim\n",
    "for id, D in enumerate(hidden_dims):\n",
    "    model.add_module(\"dropout_{}\".format(id), BernoulliDropout(alpha))\n",
    "    model.add_module(\"linear_{}\".format(id), torch.nn.Linear(previous_dim, D, bias=True))\n",
    "    model.add_module(\"nonlinearity_{}\".format(id), torch.nn.ReLU())\n",
    "    previous_dim = D\n",
    "model.add_module(\"final_layer\", torch.nn.Linear(D, output_dim, bias=True))\n",
    "\n",
    "loss = torch.nn.CrossEntropyLoss(size_average=True)\n",
    "optimizer = optim.SGD(model.parameters(), lr=0.1, momentum=0.9)\n",
    "H = train(loss=loss, model=model, x_train=x_train, y_train=y_train,\n",
    "          x_test=x_test, y_test=y_test,\n",
    "          optim=optimizer, batch_size=128, n_epochs=100)\n",
    "\n",
    "plot(H)"
   ]
  },
  {
   "cell_type": "markdown",
   "metadata": {},
   "source": [
    "# Batch Normalization"
   ]
  },
  {
   "cell_type": "markdown",
   "metadata": {},
   "source": [
    "## Exercise 2: Implement Batch Normalization\n",
    "\n",
    "Answer the following questions using the provided starting code and model:\n",
    "\n",
    "a) What train and test accuracy did you achieve without BN?\n",
    "\n",
    "b) What train and test accuracy did you achieve with BN?\n",
    "\n",
    "c) Can you use a larger LR in network with BN?"
   ]
  },
  {
   "cell_type": "code",
   "execution_count": 8,
   "metadata": {},
   "outputs": [],
   "source": [
    "import pdb\n",
    "def batch_norm(input, running_mean, running_var, weight, bias,\n",
    "    training, momentum, eps):\n",
    "   \n",
    "    if training:\n",
    "        #pdb.set_trace()\n",
    "        return (input - Variable(running_mean))/Variable(torch.sqrt(running_var))\n",
    "    else:\n",
    "        return input\n",
    "    \n",
    "class BatchNorm(nn.Module):\n",
    "\n",
    "    def __init__(self, num_features, eps=1e-5, momentum=0.1):\n",
    "        super(BatchNorm, self).__init__()\n",
    "        self.num_features = num_features\n",
    "        self.eps = eps\n",
    "        self.momentum = momentum\n",
    "        self.weight = nn.Parameter(torch.Tensor(num_features))\n",
    "        self.bias = nn.Parameter(torch.Tensor(num_features))\n",
    "        self.register_buffer('running_mean', torch.zeros(num_features))\n",
    "        self.register_buffer('running_var', torch.ones(num_features))\n",
    "        self.reset_parameters()\n",
    "\n",
    "    def reset_parameters(self):\n",
    "        self.running_mean.zero_()\n",
    "        self.running_var.fill_(1)\n",
    "        self.weight.data.uniform_()\n",
    "        self.bias.data.zero_()\n",
    "\n",
    "    def _check_input_dim(self, input):\n",
    "        return NotImplemented\n",
    "\n",
    "    def forward(self, input):\n",
    "        return batch_norm(\n",
    "            input, self.running_mean, self.running_var, self.weight, self.bias,\n",
    "            self.training, self.momentum, self.eps)\n",
    "\n",
    "    def extra_repr(self):\n",
    "        return '{num_features}, eps={eps}, momentum={momentum}, affine={affine}, ' \\\n",
    "               'track_running_stats={track_running_stats}'.format(**self.__dict__)\n"
   ]
  },
  {
   "cell_type": "code",
   "execution_count": 125,
   "metadata": {},
   "outputs": [
    {
     "name": "stderr",
     "output_type": "stream",
     "text": [
      "100%|████████████████████████████████| 100/100 [00:02<00:00, 36.71it/s]\n"
     ]
    },
    {
     "data": {
      "image/png": "[encoded data removed]",
      "text/plain": [
       "<matplotlib.figure.Figure at 0xb9cda09b0>"
      ]
     },
     "metadata": {},
     "output_type": "display_data"
    }
   ],
   "source": [
    "## Starting code\n",
    "\n",
    "input_dim = 784\n",
    "output_dim = 10\n",
    "hidden_dims =  [50, 50, 50]\n",
    "model = torch.nn.Sequential()\n",
    "previous_dim = input_dim\n",
    "for id, D in enumerate(hidden_dims):\n",
    "    lin = torch.nn.Linear(previous_dim, D, bias=True)\n",
    "    model.add_module(\"linear_{}\".format(id), lin)\n",
    "    bn = BatchNorm(D)\n",
    "    #model.add_module(\"bn_{}\".format(id), bn)\n",
    "    model.add_module(\"nonlinearity_{}\".format(id), torch.nn.ReLU())\n",
    "    previous_dim = D\n",
    "model.add_module(\"final_layer\", torch.nn.Linear(D, output_dim, bias=True))\n",
    "\n",
    "loss = torch.nn.CrossEntropyLoss(size_average=True)\n",
    "optimizer = optim.SGD(model.parameters(), lr=0.045, momentum=0.9)\n",
    "H = train(loss=loss, model=model, x_train=x_train, y_train=y_train,\n",
    "          x_test=x_test, y_test=y_test,\n",
    "          optim=optimizer, batch_size=128, n_epochs=100)\n",
    "\n",
    "plot(H)"
   ]
  },
  {
   "cell_type": "code",
   "execution_count": 5,
   "metadata": {},
   "outputs": [],
   "source": [
    "answers = {\"a\": \"without BN and with LR = 1.0 result was about 0.3\", \"b\": \"with BN and with LR = 1.0 result about 0.8\", \"c\": \"defenetly yes, with hight LR network with RN works better than network without BN and oppositely network with BN gives low result when LR is low, in same time network without BN and low LR gives hight result\"}\n",
    "json.dump(answers, open(\"8_ex2.json\", \"w\"))"
   ]
  },
  {
   "cell_type": "markdown",
   "metadata": {},
   "source": [
    "## Exercise 3: Does it really reduce internal drift?\n",
    "\n",
    "Produce an experiment similar to Figure 1 in https://arxiv.org/pdf/1502.03167.pdf (you can use our data and neural network). \n",
    "\n",
    "<img width=200 src=\"https://github.com/gmum/nn2018/raw/master/lab/fig/8/fig1.png\">\n",
    "\n",
    "Result is just a figure, save it to 8_3.png."
   ]
  },
  {
   "cell_type": "code",
   "execution_count": 59,
   "metadata": {},
   "outputs": [
    {
     "name": "stderr",
     "output_type": "stream",
     "text": [
      "100%|████████████████████████████████████████| 100/100 [00:03<00:00, 26.17it/s]\n",
      "100%|████████████████████████████████████████| 100/100 [00:02<00:00, 37.57it/s]\n"
     ]
    },
    {
     "data": {
      "image/png": "[encoded data removed]",
      "text/plain": [
       "<matplotlib.figure.Figure at 0x2436c1b4a8>"
      ]
     },
     "metadata": {},
     "output_type": "display_data"
    }
   ],
   "source": [
    "\n",
    "input_dim = 784\n",
    "output_dim = 10\n",
    "hidden_dims =  [50, 50, 50]\n",
    "\n",
    "\n",
    "BN_model = torch.nn.Sequential()\n",
    "previous_dim = input_dim\n",
    "for id, D in enumerate(hidden_dims):\n",
    "    lin = torch.nn.Linear(previous_dim, D, bias=True)\n",
    "    BN_model.add_module(\"linear_{}\".format(id), lin)\n",
    "    bn = BatchNorm(D)\n",
    "    BN_model.add_module(\"bn_{}\".format(id), bn)\n",
    "    BN_model.add_module(\"nonlinearity_{}\".format(id), torch.nn.ReLU())\n",
    "    previous_dim = D\n",
    "BN_model.add_module(\"final_layer\", torch.nn.Linear(D, output_dim, bias=True))\n",
    "\n",
    "loss = torch.nn.CrossEntropyLoss(size_average=True)\n",
    "BN_optimizer = optim.SGD(BN_model.parameters(), lr=0.9, momentum=0.9)\n",
    "BN_H = train(loss=loss, model=BN_model, x_train=x_train, y_train=y_train,\n",
    "          x_test=x_test, y_test=y_test,\n",
    "          optim=BN_optimizer, batch_size=128, n_epochs=100)\n",
    "\n",
    "\n",
    "\n",
    "model = torch.nn.Sequential()\n",
    "previous_dim = input_dim\n",
    "for id, D in enumerate(hidden_dims):\n",
    "    lin = torch.nn.Linear(previous_dim, D, bias=True)\n",
    "    model.add_module(\"linear_{}\".format(id), lin)\n",
    "    model.add_module(\"nonlinearity_{}\".format(id), torch.nn.ReLU())\n",
    "    previous_dim = D\n",
    "model.add_module(\"final_layer\", torch.nn.Linear(D, output_dim, bias=True))\n",
    "\n",
    "loss = torch.nn.CrossEntropyLoss(size_average=True)\n",
    "optimizer = optim.SGD(model.parameters(), lr=0.3, momentum=0.9)\n",
    "H = train(loss=loss, model=model, x_train=x_train, y_train=y_train,\n",
    "          x_test=x_test, y_test=y_test,\n",
    "          optim=optimizer, batch_size=128, n_epochs=100)\n",
    "\n",
    "\n",
    "plt.title(max(max(H['test_acc']), max(BN_H['test_acc'])))\n",
    "plt.plot(BN_H['test_acc'], label=\"BN test_acc\")\n",
    "plt.plot(H['test_acc'], label=\"test_acc\")\n",
    "plt.legend()\n",
    "\n",
    "plt.savefig(\"8_ex31.png\")"
   ]
  },
  {
   "cell_type": "code",
   "execution_count": 11,
   "metadata": {},
   "outputs": [
    {
     "data": {
      "text/plain": [
       "<matplotlib.figure.Figure at 0x243083dc88>"
      ]
     },
     "metadata": {},
     "output_type": "display_data"
    }
   ],
   "source": [
    "plt.savefig(\"8_ex3.png\")"
   ]
  },
  {
   "cell_type": "code",
   "execution_count": 12,
   "metadata": {},
   "outputs": [
    {
     "name": "stderr",
     "output_type": "stream",
     "text": [
      "No handles with labels found to put in legend.\n"
     ]
    },
    {
     "data": {
      "text/plain": [
       "<matplotlib.legend.Legend at 0x2436b14358>"
      ]
     },
     "execution_count": 12,
     "metadata": {},
     "output_type": "execute_result"
    },
    {
     "data": {
      "image/png": "[encoded data removed]",
      "text/plain": [
       "<matplotlib.figure.Figure at 0x243083dcf8>"
      ]
     },
     "metadata": {},
     "output_type": "display_data"
    }
   ],
   "source": [
    "plt.legend()"
   ]
  }
 ],
 "metadata": {
  "kernelspec": {
   "display_name": "Python 3",
   "language": "python",
   "name": "python3"
  },
  "language_info": {
   "codemirror_mode": {
    "name": "ipython",
    "version": 3
   },
   "file_extension": ".py",
   "mimetype": "text/x-python",
   "name": "python",
   "nbconvert_exporter": "python",
   "pygments_lexer": "ipython3",
   "version": "3.6.4"
  },
  "toc": {
   "toc_cell": false,
   "toc_number_sections": true,
   "toc_threshold": 6,
   "toc_window_display": false
  }
 },
 "nbformat": 4,
 "nbformat_minor": 1
}
