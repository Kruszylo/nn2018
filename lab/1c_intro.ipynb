{
 "cells": [
  {
   "cell_type": "markdown",
   "metadata": {},
   "source": [
    "# Introduction\n",
    "\n",
    "Material from http://www.deeplearningbook.org/, Ch.1.\n",
    "\n",
    "## What are we doing\n",
    "\n",
    "<img src=\"https://github.com/gmum/nn2018/raw/master/lab/fig/1/fig2.png\">\n",
    "<br>\n",
    "\n",
    "## Story behind Neural Networks\n",
    "\n",
    "\n",
    "<img src=\"https://github.com/gmum/nn2018/raw/master/lab/fig/1/fig3.png\">\n",
    "<img src=\"https://github.com/gmum/nn2018/raw/master/lab/fig/1/fig1.png\">"
   ]
  }
 ],
 "metadata": {
  "kernelspec": {
   "display_name": "Python 2",
   "language": "python",
   "name": "python2"
  },
  "language_info": {
   "codemirror_mode": {
    "name": "ipython",
    "version": 2
   },
   "file_extension": ".py",
   "mimetype": "text/x-python",
   "name": "python",
   "nbconvert_exporter": "python",
   "pygments_lexer": "ipython2",
   "version": "2.7.13"
  },
  "toc": {
   "toc_cell": false,
   "toc_number_sections": true,
   "toc_threshold": 6,
   "toc_window_display": false
  }
 },
 "nbformat": 4,
 "nbformat_minor": 0
}
