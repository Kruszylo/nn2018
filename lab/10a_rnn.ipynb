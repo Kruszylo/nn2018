{
 "cells": [
  {
   "cell_type": "markdown",
   "metadata": {},
   "source": [
    "# Introduction to RNNs\n",
    "\n",
    "Goal of the lab is to:\n",
    "    * Implement a simple RNN\n",
    "    * Understand vanishing gradients in RNNs\n",
    "    * Revisit code conventions: PyTorch data loader, functional model construction, more standard trainig loop\n",
    "    \n",
    "References:\n",
    "    * Content heavily based on https://github.com/MorvanZhou/PyTorch-Tutorial/blob/master/tutorial-contents-notebooks/402_RNN.ipynb (I highly recommend the whole repository)\n",
    "    * http://www.wildml.com/2015/10/recurrent-neural-networks-tutorial-part-3-backpropagation-through-time-and-vanishing-gradients/"
   ]
  },
  {
   "cell_type": "markdown",
   "metadata": {},
   "source": [
    "# Whiteboard exercises\n",
    "\n",
    "(Plus any left out exercise from the previous labs)\n",
    "\n",
    "<img width=500 src=\"http://www.wildml.com/wp-content/uploads/2015/10/rnn-bptt-with-gradients.png\">\n",
    "\n",
    "* (0.5) Find  in literature at least two ways to combat vanishing gradients in RNNs *without* changing the architecture. Describe them and argue why they should work. \n",
    "\n",
    "* (0.5) Describe how Truncated Back Propagation Through Time (TBPTT) would work for the network in the figure. Argue why TBPTT, with a correctly chosen cutoff, can be an effective method (e.g. not leading to inaccurate gradients and not slowing convergence) of training?\n"
   ]
  },
  {
   "cell_type": "markdown",
   "metadata": {},
   "source": [
    "# Setup"
   ]
  },
  {
   "cell_type": "code",
   "execution_count": 1,
   "metadata": {},
   "outputs": [],
   "source": [
    "import torch\n",
    "from torch import nn\n",
    "from torch.autograd import Variable\n",
    "import torchvision.datasets as dsets\n",
    "import torch.nn.functional as F\n",
    "import torchvision.transforms as transforms\n",
    "import numpy as np\n",
    "import matplotlib.pylab as plt\n",
    "from collections import defaultdict\n",
    "%matplotlib inline\n",
    "import json"
   ]
  },
  {
   "cell_type": "code",
   "execution_count": null,
   "metadata": {
    "collapsed": true
   },
   "outputs": [],
   "source": []
  },
  {
   "cell_type": "code",
   "execution_count": 2,
   "metadata": {},
   "outputs": [],
   "source": [
    "# Hyper Parameters (constant for the notebook)\n",
    "EPOCH = 1               # train the training data n times, to save time, we just train 1 epoch\n",
    "BATCH_SIZE = 64\n",
    "LR = 0.001\n",
    "TIME_STEP = 28          # rnn time step / image height\n",
    "INPUT_SIZE = 28         # rnn input size / image width\n",
    "LR = 0.01               # learning rate\n",
    "DOWNLOAD_MNIST = True   # set to True if haven't download the data"
   ]
  },
  {
   "cell_type": "code",
   "execution_count": 3,
   "metadata": {},
   "outputs": [
    {
     "name": "stderr",
     "output_type": "stream",
     "text": [
      "C:\\Users\\Maxim\\Anaconda3\\lib\\site-packages\\ipykernel_launcher.py:13: UserWarning: volatile was removed and now has no effect. Use `with torch.no_grad():` instead.\n",
      "  del sys.path[0]\n"
     ]
    }
   ],
   "source": [
    "# A standard way to load a dataset\n",
    "train_data = dsets.MNIST(\n",
    "    root='./mnist/',\n",
    "    train=True,                         # this is training data\n",
    "    transform=transforms.ToTensor(),    # Converts a PIL.Image or numpy.ndarray to\n",
    "                                        # torch.FloatTensor of shape (C x H x W) and normalize in the range [0.0, 1.0]\n",
    "    download=DOWNLOAD_MNIST,            # download it if you don't have it\n",
    ")\n",
    "train_loader = torch.utils.data.DataLoader(dataset=train_data, batch_size=BATCH_SIZE, shuffle=True)\n",
    "# convert test data into Variable, pick 2000 samples to speed up testing\n",
    "test_data = dsets.MNIST(root='./mnist/', train=False, transform=transforms.ToTensor())\n",
    "# shape (2000, 28, 28) value in range(0,1)\n",
    "test_x = Variable(test_data.test_data, volatile=True).type(torch.FloatTensor)[:2000]/255.   \n",
    "test_y = test_data.test_labels.numpy().squeeze()[:2000]    # covert to numpy array"
   ]
  },
  {
   "cell_type": "markdown",
   "metadata": {},
   "source": [
    "# Exercise 1: Code your own RNN\n",
    "\n",
    "Code your own RNN. It will be defined by two layers:\n",
    "\n",
    "* i2h: takes *input and hidden state from the previous step* and *produce new hidden state* using equation $$h_{t+1}=tanh(W input_{t+1} + U h_{t})$$\n",
    "\n",
    "* h2o: taken hidden state and produces $$o_{t+1} = softmax(Vh_{t+1})$$ (note that in pytorch softmax is applied within the cross entropy loss function)\n",
    "\n",
    "Tasks:\n",
    "\n",
    "* Fill up missing blanks to train your own RNN!\n",
    "* Save results as a figure (10a_1.png)\n",
    "\n",
    "Starting code is provided.\n",
    "\n",
    "Expected outcome:\n",
    "\n",
    "<img width=300 src=\"https://raw.githubusercontent.com/gmum/nn2018/master/lab/fig/10/ex1_expected.png\"> "
   ]
  },
  {
   "cell_type": "code",
   "execution_count": 4,
   "metadata": {},
   "outputs": [],
   "source": [
    " class RNN(nn.Module):\n",
    "    def __init__(self, input_size, hidden_size, output_size, init_strategy=\"simple\", init_scale=0.01):\n",
    "        super(RNN, self).__init__()\n",
    "\n",
    "        self.hidden_size = hidden_size\n",
    "\n",
    "        self.i2h = nn.Linear((input_size + hidden_size), hidden_size) ## Hint: linear module, from (input size + hidden_size) to hidden_size\n",
    "        self.h2o = nn.Linear(hidden_size, output_size) # Hint: linear module\n",
    "        \n",
    "        if init_strategy == \"simple\":\n",
    "            self.i2h.weight.data.normal_(0, init_scale)\n",
    "        else:\n",
    "            raise NotImplementedError()\n",
    "        \n",
    "        self.i2h.bias.data.fill_(0)\n",
    "        self.h2o.weight.data.uniform_(0, init_scale)\n",
    "        self.h2o.bias.data.fill_(0)\n",
    "            \n",
    "\n",
    "    def forward(self, input, hidden):\n",
    "        combined = torch.cat((input, hidden), 1) # Hint: use torch.cat to combine input and hidden input 2d vector\n",
    "        hidden = F.tanh(self.i2h(combined)) # Hint: use input to hidden\n",
    "        output = (self.h2o(hidden)) # Hint: use hidden to output\n",
    "        return output, hidden\n",
    "    \n",
    "\n",
    "    def initHidden(self, batch_size):\n",
    "        return Variable(torch.zeros(batch_size, self.hidden_size))"
   ]
  },
  {
   "cell_type": "code",
   "execution_count": 5,
   "metadata": {},
   "outputs": [],
   "source": [
    "rnn = RNN(28, 64, 10)\n",
    "optimizer = torch.optim.Adam(rnn.parameters(), lr=LR)   # optimize all cnn parameters\n",
    "loss_func = nn.CrossEntropyLoss()                       # the target label is not one-hotted"
   ]
  },
  {
   "cell_type": "code",
   "execution_count": 8,
   "metadata": {},
   "outputs": [],
   "source": [
    "import torch"
   ]
  },
  {
   "cell_type": "code",
   "execution_count": 9,
   "metadata": {},
   "outputs": [
    {
     "data": {
      "text/plain": [
       "'0.3.1.post2'"
      ]
     },
     "execution_count": 9,
     "metadata": {},
     "output_type": "execute_result"
    }
   ],
   "source": [
    "torch.__version__"
   ]
  },
  {
   "cell_type": "code",
   "execution_count": 6,
   "metadata": {},
   "outputs": [
    {
     "name": "stderr",
     "output_type": "stream",
     "text": [
      "C:\\Users\\Maxim\\Anaconda3\\lib\\site-packages\\ipykernel_launcher.py:26: UserWarning: invalid index of a 0-dim tensor. This will be an error in PyTorch 0.5. Use tensor.item() to convert a 0-dim tensor to a Python number\n"
     ]
    },
    {
     "name": "stdout",
     "output_type": "stream",
     "text": [
      "Epoch:  0.0 | train loss: 2.3026 | test accuracy: 0.10\n",
      "Epoch:  1.6 | train loss: 1.7826 | test accuracy: 0.26\n",
      "Epoch:  3.2 | train loss: 1.4722 | test accuracy: 0.32\n",
      "Epoch:  4.8 | train loss: 1.8017 | test accuracy: 0.40\n",
      "Epoch:  6.4 | train loss: 1.5137 | test accuracy: 0.47\n",
      "Epoch:  8.0 | train loss: 0.9988 | test accuracy: 0.52\n",
      "Epoch:  9.6 | train loss: 1.6528 | test accuracy: 0.43\n",
      "Epoch:  11.2 | train loss: 0.9502 | test accuracy: 0.49\n",
      "Epoch:  12.8 | train loss: 1.2697 | test accuracy: 0.56\n",
      "Epoch:  14.4 | train loss: 1.0570 | test accuracy: 0.57\n",
      "Epoch:  16.0 | train loss: 0.9681 | test accuracy: 0.59\n",
      "Epoch:  17.6 | train loss: 1.0845 | test accuracy: 0.58\n",
      "Epoch:  19.2 | train loss: 1.8330 | test accuracy: 0.36\n",
      "Epoch:  20.8 | train loss: 1.5641 | test accuracy: 0.51\n",
      "Epoch:  22.4 | train loss: 1.0491 | test accuracy: 0.62\n",
      "Epoch:  24.0 | train loss: 0.9258 | test accuracy: 0.65\n",
      "Epoch:  25.6 | train loss: 1.5258 | test accuracy: 0.59\n",
      "Epoch:  27.2 | train loss: 1.4475 | test accuracy: 0.57\n",
      "Epoch:  28.8 | train loss: 0.8507 | test accuracy: 0.64\n"
     ]
    }
   ],
   "source": [
    "# training and testing\n",
    "H = {\"acc\": []}\n",
    "for epoch in range(EPOCH):\n",
    "    for step, (x, y) in enumerate(train_loader):        # gives batch data\n",
    "        b_x = Variable(x.view(-1, 28, 28))              # reshape x to (batch, time_step, input_size)\n",
    "        b_y = Variable(y)                               # batch y\n",
    "        \n",
    "        optimizer.zero_grad()\n",
    "\n",
    "        hidden = rnn.initHidden(b_x.size()[0])\n",
    "        for i in range(b_x.size()[1]): # Hint: iterate through all the steps\n",
    "            output, hidden = rnn.forward(b_x[:,i,:], hidden) # Hint: just apply forward from the model\n",
    "        loss = loss_func(output, b_y)\n",
    "        \n",
    "        optimizer.zero_grad()                           # clear gradients for this training step\n",
    "        loss.backward()                                 # backpropagation, compute gradients\n",
    "        optimizer.step()                                # apply gradients\n",
    "\n",
    "        if step % 50 == 0:\n",
    "            hidden = rnn.initHidden(test_x.size()[0])\n",
    "            for i in range(test_x.size()[1]):\n",
    "                test_output, hidden = rnn(test_x[:, i], hidden)\n",
    "            pred_y = torch.max(test_output, 1)[1].data.numpy().squeeze()\n",
    "            accuracy = sum(pred_y == test_y.reshape(-1,)) / float(test_y.size)\n",
    "            H['acc'].append(accuracy)\n",
    "            print('Epoch: ', epoch + step*len(b_x)/2000., '| train loss: %.4f' % loss.data[0], '| test accuracy: %.2f' % accuracy)"
   ]
  },
  {
   "cell_type": "code",
   "execution_count": 7,
   "metadata": {},
   "outputs": [
    {
     "data": {
      "image/png": "[encoded data removed]",
      "text/plain": [
       "<matplotlib.figure.Figure at 0x6711ee96a0>"
      ]
     },
     "metadata": {},
     "output_type": "display_data"
    }
   ],
   "source": [
    "plt.title(\"Simple(0.01)\")\n",
    "plt.plot(H['acc'])\n",
    "plt.xlabel(\"Epoch\")\n",
    "plt.ylabel(\"Training accuracy\")\n",
    "plt.savefig(\"10a_1.png\")"
   ]
  },
  {
   "cell_type": "markdown",
   "metadata": {},
   "source": [
    "# Exercise 2: Vanishing Gradient\n",
    "\n",
    "\n",
    "* Measure ||dL/dh_i|| for different states, where ||.|| is the euclidean norm of the vector. \n",
    "* Plot run for the simple initialization (with scale=0.001). Save figure to (10a_2_simple.png)\n",
    "\n",
    "Starting code is provided\n",
    "\n",
    "Expected (it can be different for you due to randomness) outcome (x axis is epoch, y axis is ||dL/dh_i||, color is index):\n",
    "\n",
    "<img width=300 src=\"https://raw.githubusercontent.com/gmum/nn2018/master/lab/fig/10/ex2_expected_simple.png\"> "
   ]
  },
  {
   "cell_type": "code",
   "execution_count": 9,
   "metadata": {},
   "outputs": [
    {
     "name": "stderr",
     "output_type": "stream",
     "text": [
      "C:\\Users\\Maxim\\Anaconda3\\lib\\site-packages\\ipykernel_launcher.py:45: UserWarning: invalid index of a 0-dim tensor. This will be an error in PyTorch 0.5. Use tensor.item() to convert a 0-dim tensor to a Python number\n"
     ]
    },
    {
     "name": "stdout",
     "output_type": "stream",
     "text": [
      "Epoch:  0.0 | train loss: 2.3026 | test accuracy: 0.10\n",
      "Epoch:  1.6 | train loss: 1.7696 | test accuracy: 0.29\n",
      "Epoch:  3.2 | train loss: 1.5594 | test accuracy: 0.34\n",
      "Epoch:  4.8 | train loss: 1.0814 | test accuracy: 0.52\n",
      "Epoch:  6.4 | train loss: 1.3015 | test accuracy: 0.48\n",
      "Epoch:  8.0 | train loss: 2.0381 | test accuracy: 0.17\n",
      "Epoch:  9.6 | train loss: 2.2300 | test accuracy: 0.14\n",
      "Epoch:  11.2 | train loss: 2.0174 | test accuracy: 0.25\n",
      "Epoch:  12.8 | train loss: 2.2865 | test accuracy: 0.17\n",
      "Epoch:  14.4 | train loss: 1.7337 | test accuracy: 0.44\n",
      "Epoch:  16.0 | train loss: 1.2268 | test accuracy: 0.43\n",
      "Epoch:  17.6 | train loss: 1.6196 | test accuracy: 0.37\n",
      "Epoch:  19.2 | train loss: 1.4098 | test accuracy: 0.43\n",
      "Epoch:  20.8 | train loss: 1.9255 | test accuracy: 0.28\n",
      "Epoch:  22.4 | train loss: 1.7060 | test accuracy: 0.32\n",
      "Epoch:  24.0 | train loss: 1.4765 | test accuracy: 0.38\n",
      "Epoch:  25.6 | train loss: 1.4990 | test accuracy: 0.39\n",
      "Epoch:  27.2 | train loss: 1.3877 | test accuracy: 0.40\n",
      "Epoch:  28.8 | train loss: 1.5477 | test accuracy: 0.37\n"
     ]
    }
   ],
   "source": [
    "H = defaultdict(list)\n",
    "\n",
    "rnn = RNN(28, 64, 10, \"simple\", 0.001)\n",
    "optimizer = torch.optim.Adam(rnn.parameters(), lr=LR)   # optimize all cnn parameters\n",
    "loss_func = nn.CrossEntropyLoss()                       # the target label is not one-hotted\n",
    "    \n",
    "for epoch in range(EPOCH):\n",
    "    for step, (x, y) in enumerate(train_loader):        # gives batch data\n",
    "        b_x = Variable(x.view(-1, 28, 28))              # reshape x to (batch, time_step, input_size)\n",
    "        b_y = Variable(y)                               # batch y\n",
    "        \n",
    "        optimizer.zero_grad()\n",
    "\n",
    "        # Make sure gradients are retained\n",
    "        hidden = rnn.initHidden(b_x.size()[0])\n",
    "        hiddens = [hidden]\n",
    "        for i in range(b_x.size()[1]): # Hint: iterate through all the steps\n",
    "            output, hidden = rnn.forward(b_x[:,i,:], hidden) # Hint: just apply forward from the model\n",
    "            hiddens.append(hidden)\n",
    "            hidden.retain_grad() # google \"retain_grad\". Otherwise hidden.grad=None. \n",
    "        loss = loss_func(output, b_y)\n",
    "        \n",
    "        optimizer.zero_grad()                           # clear gradients for this training step\n",
    "        loss.backward(retain_graph=True)      # backpropagation, compute gradients\n",
    "        \n",
    "        # Save ||dL/dh_i||\n",
    "        dLdhi = []\n",
    "        for h in hiddens[1:]:\n",
    "            g = h.grad.data.numpy()\n",
    "            dLdhi.append(np.linalg.norm(g)) # Hint: Just compute ||dL/dh_i|| from h.grad.data.numpy() using np.linalg.norm + average over examples\n",
    "        \n",
    "        optimizer.step()                                \n",
    "\n",
    "        if step % 50 == 0:\n",
    "            hidden = rnn.initHidden(test_x.size()[0])\n",
    "            for i in range(test_x.size()[1]):\n",
    "                test_output, hidden = rnn(test_x[:, i], hidden)\n",
    "            \n",
    "            for i, val in enumerate(dLdhi):\n",
    "                H['dL/dh_{}'.format(i)].append(val)\n",
    "                \n",
    "            pred_y = torch.max(test_output, 1)[1].data.numpy().squeeze()\n",
    "            accuracy = sum(pred_y == test_y.reshape(-1,)) / float(test_y.size)\n",
    "            H['acc'].append(accuracy)\n",
    "            print('Epoch: ', epoch + step*len(b_x)/2000., '| train loss: %.4f' % loss.data[0], '| test accuracy: %.2f' % accuracy)"
   ]
  },
  {
   "cell_type": "code",
   "execution_count": 10,
   "metadata": {},
   "outputs": [
    {
     "name": "stdout",
     "output_type": "stream",
     "text": [
      "Ratio of ||dL/dh_27|| to ||dL/dh_1|| is 1.435539\n"
     ]
    },
    {
     "data": {
      "image/png": "[encoded data removed]",
      "text/plain": [
       "<matplotlib.figure.Figure at 0x67153ffc88>"
      ]
     },
     "metadata": {},
     "output_type": "display_data"
    }
   ],
   "source": [
    "# Save results\n",
    "cm = plt.get_cmap(\"coolwarm\", 80)\n",
    "plt.title(\"Simple(0.01)\") \n",
    "for i in range(28):\n",
    "    plt.plot(H['dL/dh_{}'.format(i)], color=cm(i/28.))\n",
    "print(\"Ratio of ||dL/dh_27|| to ||dL/dh_1|| is \" + str(np.mean(H['dL/dh_27'][-10:-1]) / np.mean(H['dL/dh_1'][-10:-1])))\n",
    "plt.savefig(\"10a_2_simple.png\") "
   ]
  }
 ],
 "metadata": {
  "kernelspec": {
   "display_name": "Python 3",
   "language": "python",
   "name": "python3"
  },
  "language_info": {
   "codemirror_mode": {
    "name": "ipython",
    "version": 3
   },
   "file_extension": ".py",
   "mimetype": "text/x-python",
   "name": "python",
   "nbconvert_exporter": "python",
   "pygments_lexer": "ipython3",
   "version": "3.6.4"
  },
  "toc": {
   "toc_cell": false,
   "toc_number_sections": true,
   "toc_threshold": 6,
   "toc_window_display": false
  }
 },
 "nbformat": 4,
 "nbformat_minor": 1
}
