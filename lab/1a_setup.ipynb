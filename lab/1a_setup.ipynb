{
 "cells": [
  {
   "cell_type": "markdown",
   "metadata": {},
   "source": [
    "Na tych zajęciach używamy Pythona 3.6, ale notebooki powinny działać w Pythonie2.7"
   ]
  },
  {
   "cell_type": "markdown",
   "metadata": {},
   "source": [
    "# Krok 1. - pobranie repozytorium\n",
    "\n",
    "https://github.com/gmum/nn2018"
   ]
  },
  {
   "cell_type": "raw",
   "metadata": {},
   "source": [
    "git clone https://github.com/gmum/nn2018.git"
   ]
  },
  {
   "cell_type": "markdown",
   "metadata": {},
   "source": [
    "# Krok 2. - instalacja minicondy (zalecane)\n",
    "\n",
    "https://conda.io/miniconda.html\n",
    "\n",
    "miniconda zainstaluje się do wybranego katalogu i opcjonalnie dopisze odpowiednią linijkę w .bash_profile"
   ]
  },
  {
   "cell_type": "raw",
   "metadata": {},
   "source": [
    "wget https://repo.continuum.io/miniconda/Miniconda3-latest-Linux-x86_64.sh\n",
    "chmod +x Miniconda3-latest-Linux-x86_64.sh\n",
    "./Miniconda3-latest-Linux-x86_64.sh\n",
    "rm Miniconda3-latest-Linux-x86_64.sh"
   ]
  },
  {
   "cell_type": "markdown",
   "metadata": {},
   "source": [
    "# Krok 3. - utworzenie środowiska (zalecane, ale nie konieczne)\n",
    "\n",
    "https://conda.io/docs/user-guide/tasks/manage-environments.html"
   ]
  },
  {
   "cell_type": "raw",
   "metadata": {},
   "source": [
    "conda create --name nn2018\n",
    "source activate nn2018\n",
    "# source deactivate nn2018"
   ]
  },
  {
   "cell_type": "markdown",
   "metadata": {},
   "source": [
    "# Krok 4. - instalacja pakietów \n",
    "\n",
    "https://conda.io/docs/user-guide/tasks/manage-pkgs.html"
   ]
  },
  {
   "cell_type": "raw",
   "metadata": {},
   "source": [
    "conda install jupyter # notebooki\n",
    "conda install numpy # operacje matematyczno-macierzowe\n",
    "conda install scipy # więcej matematyki\n",
    "conda install keras # proste tworzenie sieci neuronowych\n",
    "conda install scikit-learn # dużo gotowych modeli ML\n",
    "conda install matplotlib # wykresy\n",
    "conda install pandas # ładne tabelki\n",
    "conda install tqdm # ładny progress bar\n",
    "pip install http://download.pytorch.org/whl/cu80/torch-0.3.1-cp27-cp27mu-linux_x86_64.whl \n",
    "pip install torchvision "
   ]
  },
  {
   "cell_type": "markdown",
   "metadata": {},
   "source": [
    "## Instalacja PyTorcha\n",
    "\n",
    "### Windows 7/8, Anaconda\n",
    "\n",
    "Ref: https://github.com/peterjc123/pytorch-scripts\n",
    "\n",
    "! conda install -c peterjc123 pytorch_legacy\n",
    "\n",
    "### Windows 10, Anaconda\n",
    "\n",
    "Ref: https://github.com/peterjc123/pytorch-scripts\n",
    "\n",
    "! conda install -c peterjc123 pytorch\n",
    "\n",
    "### Linux/OSX, Python2/3\n",
    "\n",
    "Proszę użyć instrukcji z pytorch.org"
   ]
  },
  {
   "cell_type": "markdown",
   "metadata": {},
   "source": [
    "# Krok 5. - testujemy, czy wszystko działa"
   ]
  },
  {
   "cell_type": "code",
   "execution_count": null,
   "metadata": {
    "collapsed": true
   },
   "outputs": [],
   "source": [
    "!cd nn2018\n",
    "!jupyter notebook"
   ]
  },
  {
   "cell_type": "code",
   "execution_count": null,
   "metadata": {
    "collapsed": true
   },
   "outputs": [],
   "source": [
    "import matplotlib\n",
    "import numpy as np\n",
    "import pandas as pd\n",
    "import scipy\n",
    "import keras\n",
    "import sklearn\n",
    "import tqdm"
   ]
  },
  {
   "cell_type": "markdown",
   "metadata": {},
   "source": [
    "# Dla osób bez laptopów: Colab\n",
    "\n",
    "Notebooki będą też dostępne do odpalenia w Colab. Link dostępny pod http://kudkudak.github.io/4students"
   ]
  },
  {
   "cell_type": "markdown",
   "metadata": {},
   "source": [
    "Aby użyc notebook przez Colab należy:\n",
    "    * Wejść do folderu z notebookami na gdriv\n",
    "    * Kliknąć na dany plik ipynb\n",
    "    * Kliknąć \"Otwórz w collaboratory\"\n",
    "    * Zainstalować pytorch (i inne wymagane paczki) za pomocą pip, jak poniżej:\n",
    "    \n",
    "    \n",
    "Uwaga: proszę zamienić ścieżkę do wheela zgodnie z pytorch.org!"
   ]
  },
  {
   "cell_type": "code",
   "execution_count": 2,
   "metadata": {
    "collapsed": false
   },
   "outputs": [
    {
     "name": "stdout",
     "output_type": "stream",
     "text": [
      "\u001b[31mtorch-0.3.1-cp27-cp27mu-linux_x86_64.whl is not a supported wheel on this platform.\u001b[0m\n",
      "Requirement already satisfied: torchvision in /Users/kudkudak/anaconda/lib/python2.7/site-packages\n",
      "Requirement already satisfied: pillow>=4.1.1 in /Users/kudkudak/anaconda/lib/python2.7/site-packages (from torchvision)\n",
      "Requirement already satisfied: torch in /Users/kudkudak/anaconda/lib/python2.7/site-packages (from torchvision)\n",
      "Requirement already satisfied: numpy in /Users/kudkudak/anaconda/lib/python2.7/site-packages (from torchvision)\n",
      "Requirement already satisfied: six in /Users/kudkudak/anaconda/lib/python2.7/site-packages (from torchvision)\n",
      "Requirement already satisfied: pyyaml in /Users/kudkudak/anaconda/lib/python2.7/site-packages (from torch->torchvision)\n",
      "Requirement already satisfied: tqdm in /Users/kudkudak/anaconda/lib/python2.7/site-packages\n",
      "Requirement already satisfied: keras in /Users/kudkudak/anaconda/lib/python2.7/site-packages\n",
      "Requirement already satisfied: scipy>=0.14 in /Users/kudkudak/anaconda/lib/python2.7/site-packages (from keras)\n",
      "Requirement already satisfied: six>=1.9.0 in /Users/kudkudak/anaconda/lib/python2.7/site-packages (from keras)\n",
      "Requirement already satisfied: numpy>=1.9.1 in /Users/kudkudak/anaconda/lib/python2.7/site-packages (from keras)\n",
      "Requirement already satisfied: pyyaml in /Users/kudkudak/anaconda/lib/python2.7/site-packages (from keras)\n"
     ]
    }
   ],
   "source": [
    "!pip install http://download.pytorch.org/whl/cu80/torch-0.3.1-cp27-cp27mu-linux_x86_64.whl \n",
    "!pip install torchvision \n",
    "!pip install tqdm\n",
    "!pip install keras"
   ]
  }
 ],
 "metadata": {
  "kernelspec": {
   "display_name": "Python 2",
   "language": "python",
   "name": "python2"
  },
  "language_info": {
   "codemirror_mode": {
    "name": "ipython",
    "version": 2
   },
   "file_extension": ".py",
   "mimetype": "text/x-python",
   "name": "python",
   "nbconvert_exporter": "python",
   "pygments_lexer": "ipython2",
   "version": "2.7.13"
  },
  "toc": {
   "toc_cell": false,
   "toc_number_sections": true,
   "toc_threshold": 6,
   "toc_window_display": false
  }
 },
 "nbformat": 4,
 "nbformat_minor": 2
}
